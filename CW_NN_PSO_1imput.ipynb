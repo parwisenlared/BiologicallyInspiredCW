{
 "cells": [
  {
   "cell_type": "code",
   "execution_count": 3,
   "metadata": {},
   "outputs": [],
   "source": [
    "import numpy as np\n",
    "import random\n",
    "import pandas as pd\n",
    "import matplotlib.pyplot as plt\n",
    "%matplotlib inline"
   ]
  },
  {
   "cell_type": "markdown",
   "metadata": {},
   "source": [
    "## Activation functions"
   ]
  },
  {
   "cell_type": "code",
   "execution_count": 4,
   "metadata": {},
   "outputs": [],
   "source": [
    "def sigmoid(x):\n",
    "    return 1/(1+np.exp(-x))\n",
    "\n",
    "def tanh(x):\n",
    "    return np.tanh(x)\n",
    "\n",
    "def cosine(x):\n",
    "    return np.cos(x)\n",
    "\n",
    "def gaussian(x):\n",
    "    return np.exp(-((x**2)/2))"
   ]
  },
  {
   "cell_type": "code",
   "execution_count": 5,
   "metadata": {},
   "outputs": [],
   "source": [
    "activations_list = [sigmoid,tanh,cosine,gaussian]\n",
    "act_dict = {0.1:sigmoid, 0.2:tanh, 0.3:cosine, 0.4:gaussian}"
   ]
  },
  {
   "cell_type": "code",
   "execution_count": 6,
   "metadata": {},
   "outputs": [
    {
     "data": {
      "text/plain": [
       "0.4"
      ]
     },
     "execution_count": 6,
     "metadata": {},
     "output_type": "execute_result"
    }
   ],
   "source": [
    "f = np.random.choice(list(act_dict.keys()))\n",
    "f"
   ]
  },
  {
   "cell_type": "code",
   "execution_count": 7,
   "metadata": {},
   "outputs": [
    {
     "data": {
      "text/plain": [
       "0.1"
      ]
     },
     "execution_count": 7,
     "metadata": {},
     "output_type": "execute_result"
    }
   ],
   "source": [
    "h = np.random.choice(list(act_dict.keys()))\n",
    "h"
   ]
  },
  {
   "cell_type": "markdown",
   "metadata": {},
   "source": [
    "### Testing activation functions"
   ]
  },
  {
   "cell_type": "code",
   "execution_count": 8,
   "metadata": {},
   "outputs": [],
   "source": [
    "test_inputs = np.arange(-10,10,0.01)"
   ]
  },
  {
   "cell_type": "code",
   "execution_count": 9,
   "metadata": {},
   "outputs": [
    {
     "data": {
      "text/plain": [
       "Text(0.5, 1.0, 'Gaussian')"
      ]
     },
     "execution_count": 9,
     "metadata": {},
     "output_type": "execute_result"
    },
    {
     "data": {
      "image/png": "[encoded data removed]",
      "text/plain": [
       "<Figure size 936x216 with 4 Axes>"
      ]
     },
     "metadata": {
      "needs_background": "light"
     },
     "output_type": "display_data"
    }
   ],
   "source": [
    "fig, axes = plt.subplots(nrows=1, ncols=4, figsize=(13,3))\n",
    "axes[0].plot(test_inputs,sigmoid(test_inputs),linewidth=3)\n",
    "axes[0].set_title(\"Sigmoid\")\n",
    "axes[1].plot(test_inputs,tanh(test_inputs),linewidth=3)\n",
    "axes[1].set_title(\"Tanh\")\n",
    "axes[2].plot(test_inputs,cosine(test_inputs),linewidth=3)\n",
    "axes[2].set_title(\"Cosine\")\n",
    "axes[3].plot(test_inputs,gaussian(test_inputs),linewidth=3)\n",
    "axes[3].set_title(\"Gaussian\")"
   ]
  },
  {
   "cell_type": "markdown",
   "metadata": {},
   "source": [
    "## Inputs & Outputs"
   ]
  },
  {
   "cell_type": "code",
   "execution_count": 10,
   "metadata": {},
   "outputs": [
    {
     "data": {
      "text/html": [
       "<div>\n",
       "<style scoped>\n",
       "    .dataframe tbody tr th:only-of-type {\n",
       "        vertical-align: middle;\n",
       "    }\n",
       "\n",
       "    .dataframe tbody tr th {\n",
       "        vertical-align: top;\n",
       "    }\n",
       "\n",
       "    .dataframe thead th {\n",
       "        text-align: right;\n",
       "    }\n",
       "</style>\n",
       "<table border=\"1\" class=\"dataframe\">\n",
       "  <thead>\n",
       "    <tr style=\"text-align: right;\">\n",
       "      <th></th>\n",
       "      <th>x</th>\n",
       "      <th>y</th>\n",
       "    </tr>\n",
       "  </thead>\n",
       "  <tbody>\n",
       "    <tr>\n",
       "      <th>0</th>\n",
       "      <td>-1.00</td>\n",
       "      <td>-1.00</td>\n",
       "    </tr>\n",
       "    <tr>\n",
       "      <th>1</th>\n",
       "      <td>-0.98</td>\n",
       "      <td>-0.98</td>\n",
       "    </tr>\n",
       "    <tr>\n",
       "      <th>2</th>\n",
       "      <td>-0.96</td>\n",
       "      <td>-0.96</td>\n",
       "    </tr>\n",
       "    <tr>\n",
       "      <th>3</th>\n",
       "      <td>-0.94</td>\n",
       "      <td>-0.94</td>\n",
       "    </tr>\n",
       "    <tr>\n",
       "      <th>4</th>\n",
       "      <td>-0.92</td>\n",
       "      <td>-0.92</td>\n",
       "    </tr>\n",
       "  </tbody>\n",
       "</table>\n",
       "</div>"
      ],
      "text/plain": [
       "      x     y\n",
       "0 -1.00 -1.00\n",
       "1 -0.98 -0.98\n",
       "2 -0.96 -0.96\n",
       "3 -0.94 -0.94\n",
       "4 -0.92 -0.92"
      ]
     },
     "execution_count": 10,
     "metadata": {},
     "output_type": "execute_result"
    }
   ],
   "source": [
    "df = pd.read_csv(\"Data/1in_linear.txt\", sep=\"\\t\", header=None)\n",
    "df.columns = [\"x\",\"y\"]\n",
    "x = df[\"x\"]\n",
    "y = df[\"y\"]\n",
    "\n",
    "df.head()"
   ]
  },
  {
   "cell_type": "code",
   "execution_count": 11,
   "metadata": {},
   "outputs": [
    {
     "data": {
      "text/plain": [
       "(101, 2)"
      ]
     },
     "execution_count": 11,
     "metadata": {},
     "output_type": "execute_result"
    }
   ],
   "source": [
    "#I thought about having our imputs and outputs as array of 1D, so maybe they can be easier to comare\n",
    "data = np.loadtxt(\"Data/1in_tanh.txt\")\n",
    "data.shape"
   ]
  },
  {
   "cell_type": "code",
   "execution_count": 12,
   "metadata": {},
   "outputs": [
    {
     "data": {
      "text/plain": [
       "(101, 1)"
      ]
     },
     "execution_count": 12,
     "metadata": {},
     "output_type": "execute_result"
    }
   ],
   "source": [
    "imput = data[:, :1] \n",
    "imput.shape"
   ]
  },
  {
   "cell_type": "code",
   "execution_count": 13,
   "metadata": {},
   "outputs": [
    {
     "data": {
      "text/plain": [
       "(101, 1)"
      ]
     },
     "execution_count": 13,
     "metadata": {},
     "output_type": "execute_result"
    }
   ],
   "source": [
    "output = data[:, 1:]\n",
    "output.shape"
   ]
  },
  {
   "cell_type": "markdown",
   "metadata": {},
   "source": [
    "## Simplified Neural Network"
   ]
  },
  {
   "cell_type": "markdown",
   "metadata": {},
   "source": [
    "Source: https://www.youtube.com/watch?v=bxe2T-V8XRs\n",
    "\n",
    "\n"
   ]
  },
  {
   "cell_type": "markdown",
   "metadata": {},
   "source": [
    "x = input <br>\n",
    "W1 = weights from input layer to hidden layer <br>\n",
    "z2 = x * W1 <br>\n",
    "a2 = activation of z2 (x * W1) <br>\n",
    "W2  weights from hidden layer to output layer <br>\n",
    "z3 = a2 * W2 activation of z3 <br>\n",
    "yHat = predicted output <br>"
   ]
  },
  {
   "cell_type": "code",
   "execution_count": 14,
   "metadata": {},
   "outputs": [],
   "source": [
    "class SimplifiedNeuralNetwork(object):\n",
    "    \n",
    "    def __init__(self):\n",
    "        self.fitness = -1.\n",
    "        \n",
    "        self.inputLayerSize=1\n",
    "        self.outputLayerSize=1\n",
    "        self.hiddenlayerSize=3\n",
    "                \n",
    "        self.W1 = np.random.randn(self.inputLayerSize, self.hiddenlayerSize)\n",
    "        self.W2 = np.random.randn(self.hiddenlayerSize, self.outputLayerSize)\n",
    "        self.a2_func = np.random.choice(list(act_dict.keys()))\n",
    "        self.yHat_func = np.random.choice(list(act_dict.keys()))\n",
    "        \n",
    "    def forward(self, X):\n",
    "        self.z2 = np.dot(X, self.W1) # Product of input layer and weights1\n",
    "        self.a2 = act_dict[self.a2_func](self.z2) # Activation & z2  \n",
    "        self.z3 = np.dot(self.a2, self.W2) # Product of a2 & weights2\n",
    "        yHat = act_dict[self.yHat_func](self.z3) # Activation of z3\n",
    "        return yHat   \n",
    "    \n",
    "    def __str__(self):\n",
    "        return f\"Network:W1{self.W1}, Fitness:{self.fitness}, Imput value:{imput}, Predicted values:{yHat}\"   \n",
    "    \n",
    "    @property\n",
    "    def getParams(self):\n",
    "        array = self.W1.ravel()\n",
    "        array = np.append(array,self.a2_func)\n",
    "        array = np.append(array,self.W2.ravel())\n",
    "        array = np.append(array,self.yHat_func)\n",
    "        return array     "
   ]
  },
  {
   "cell_type": "code",
   "execution_count": 15,
   "metadata": {},
   "outputs": [
    {
     "data": {
      "text/plain": [
       "(101, 1)"
      ]
     },
     "execution_count": 15,
     "metadata": {},
     "output_type": "execute_result"
    }
   ],
   "source": [
    "nn1 = SimplifiedNeuralNetwork()\n",
    "yHat = nn1.forward(imput)\n",
    "yHat.shape\n",
    "#yHat, output"
   ]
  },
  {
   "cell_type": "code",
   "execution_count": 18,
   "metadata": {},
   "outputs": [],
   "source": [
    "def rmse(predict, target):\n",
    "    rmse_val = np.square(np.subtract(target, predict)).mean()\n",
    "    return rmse_val\n",
    "\n",
    "def feedForward(networks):\n",
    "    for network in networks:\n",
    "            yHat = network.forward(imput)\n",
    "            error = rmse(yHat,output)\n",
    "            network.fitness = error\n",
    "    return network"
   ]
  },
  {
   "cell_type": "code",
   "execution_count": 19,
   "metadata": {},
   "outputs": [
    {
     "data": {
      "text/plain": [
       "1.5807395345484638"
      ]
     },
     "execution_count": 19,
     "metadata": {},
     "output_type": "execute_result"
    }
   ],
   "source": [
    "meansq = rmse(yHat, output)\n",
    "meansq"
   ]
  },
  {
   "cell_type": "markdown",
   "metadata": {},
   "source": [
    "## PSO\n",
    "\n",
    "source: https://jamesmccaffrey.wordpress.com/2015/06/09/particle-swarm-optimization-using-python/\n",
    "\n",
    "\n",
    "source: https://medium.com/analytics-vidhya/implementing-particle-swarm-optimization-pso-algorithm-in-python-9efc2eb179a6"
   ]
  },
  {
   "cell_type": "code",
   "execution_count": 29,
   "metadata": {},
   "outputs": [],
   "source": [
    "class Particle():\n",
    "    \n",
    "    def __init__(self,SimplifiedNeuralNetwork):\n",
    "        self.position = SimplifiedNeuralNetwork.getParams\n",
    "        self.velocity = np.zeros(SimplifiedNeuralNetwork.getParams.shape)\n",
    "        self.personal_best = np.zeros(SimplifiedNeuralNetwork.getParams.shape)\n",
    "        \n",
    "    def move(self):\n",
    "        self.position = self.position + self.velocity\n",
    "        \n",
    "def Solve(max_epochs,num_networks):\n",
    "    networks = [SimplifiedNeuralNetwork() for i in range(num_networks)]\n",
    "    Y = [feedForward(networks)]\n",
    "    \n",
    "    for network in Y:\n",
    "        print(network)\n",
    "        #prtint(Y)\n",
    "        \n",
    "    "
   ]
  },
  {
   "cell_type": "code",
   "execution_count": 30,
   "metadata": {},
   "outputs": [
    {
     "data": {
      "text/plain": [
       "array([0, 0])"
      ]
     },
     "execution_count": 30,
     "metadata": {},
     "output_type": "execute_result"
    }
   ],
   "source": [
    "g = np.array([0,0])\n",
    "g"
   ]
  },
  {
   "cell_type": "code",
   "execution_count": 31,
   "metadata": {},
   "outputs": [
    {
     "data": {
      "text/plain": [
       "array([0., 0., 0., 0., 0., 0., 0., 0.])"
      ]
     },
     "execution_count": 31,
     "metadata": {},
     "output_type": "execute_result"
    }
   ],
   "source": [
    "h = np.zeros(nn1.getParams.shape)\n",
    "h"
   ]
  },
  {
   "cell_type": "code",
   "execution_count": 32,
   "metadata": {},
   "outputs": [
    {
     "name": "stdout",
     "output_type": "stream",
     "text": [
      "Network:W1[[ 0.77611955  0.15432288 -1.7007932 ]], Fitness:1.1221898311245626, Imput value:[[-1.  ]\n",
      " [-0.98]\n",
      " [-0.96]\n",
      " [-0.94]\n",
      " [-0.92]\n",
      " [-0.9 ]\n",
      " [-0.88]\n",
      " [-0.86]\n",
      " [-0.84]\n",
      " [-0.82]\n",
      " [-0.8 ]\n",
      " [-0.78]\n",
      " [-0.76]\n",
      " [-0.74]\n",
      " [-0.72]\n",
      " [-0.7 ]\n",
      " [-0.68]\n",
      " [-0.66]\n",
      " [-0.64]\n",
      " [-0.62]\n",
      " [-0.6 ]\n",
      " [-0.58]\n",
      " [-0.56]\n",
      " [-0.54]\n",
      " [-0.52]\n",
      " [-0.5 ]\n",
      " [-0.48]\n",
      " [-0.46]\n",
      " [-0.44]\n",
      " [-0.42]\n",
      " [-0.4 ]\n",
      " [-0.38]\n",
      " [-0.36]\n",
      " [-0.34]\n",
      " [-0.32]\n",
      " [-0.3 ]\n",
      " [-0.28]\n",
      " [-0.26]\n",
      " [-0.24]\n",
      " [-0.22]\n",
      " [-0.2 ]\n",
      " [-0.18]\n",
      " [-0.16]\n",
      " [-0.14]\n",
      " [-0.12]\n",
      " [-0.1 ]\n",
      " [-0.08]\n",
      " [-0.06]\n",
      " [-0.04]\n",
      " [-0.02]\n",
      " [ 0.  ]\n",
      " [ 0.02]\n",
      " [ 0.04]\n",
      " [ 0.06]\n",
      " [ 0.08]\n",
      " [ 0.1 ]\n",
      " [ 0.12]\n",
      " [ 0.14]\n",
      " [ 0.16]\n",
      " [ 0.18]\n",
      " [ 0.2 ]\n",
      " [ 0.22]\n",
      " [ 0.24]\n",
      " [ 0.26]\n",
      " [ 0.28]\n",
      " [ 0.3 ]\n",
      " [ 0.32]\n",
      " [ 0.34]\n",
      " [ 0.36]\n",
      " [ 0.38]\n",
      " [ 0.4 ]\n",
      " [ 0.42]\n",
      " [ 0.44]\n",
      " [ 0.46]\n",
      " [ 0.48]\n",
      " [ 0.5 ]\n",
      " [ 0.52]\n",
      " [ 0.54]\n",
      " [ 0.56]\n",
      " [ 0.58]\n",
      " [ 0.6 ]\n",
      " [ 0.62]\n",
      " [ 0.64]\n",
      " [ 0.66]\n",
      " [ 0.68]\n",
      " [ 0.7 ]\n",
      " [ 0.72]\n",
      " [ 0.74]\n",
      " [ 0.76]\n",
      " [ 0.78]\n",
      " [ 0.8 ]\n",
      " [ 0.82]\n",
      " [ 0.84]\n",
      " [ 0.86]\n",
      " [ 0.88]\n",
      " [ 0.9 ]\n",
      " [ 0.92]\n",
      " [ 0.94]\n",
      " [ 0.96]\n",
      " [ 0.98]\n",
      " [ 1.  ]], Predicted values:[[0.58187154]\n",
      " [0.58143194]\n",
      " [0.5810627 ]\n",
      " [0.58076729]\n",
      " [0.58054905]\n",
      " [0.58041119]\n",
      " [0.5803567 ]\n",
      " [0.58038839]\n",
      " [0.58050874]\n",
      " [0.58071996]\n",
      " [0.58102385]\n",
      " [0.58142185]\n",
      " [0.58191489]\n",
      " [0.58250345]\n",
      " [0.58318746]\n",
      " [0.58396627]\n",
      " [0.58483864]\n",
      " [0.5858027 ]\n",
      " [0.58685593]\n",
      " [0.58799512]\n",
      " [0.58921642]\n",
      " [0.59051528]\n",
      " [0.59188649]\n",
      " [0.59332419]\n",
      " [0.59482188]\n",
      " [0.59637246]\n",
      " [0.59796828]\n",
      " [0.59960116]\n",
      " [0.60126247]\n",
      " [0.60294315]\n",
      " [0.60463384]\n",
      " [0.60632489]\n",
      " [0.60800647]\n",
      " [0.60966863]\n",
      " [0.61130137]\n",
      " [0.61289476]\n",
      " [0.61443899]\n",
      " [0.61592444]\n",
      " [0.61734181]\n",
      " [0.61868213]\n",
      " [0.61993687]\n",
      " [0.62109801]\n",
      " [0.62215809]\n",
      " [0.62311026]\n",
      " [0.62394838]\n",
      " [0.624667  ]\n",
      " [0.62526146]\n",
      " [0.62572788]\n",
      " [0.62606323]\n",
      " [0.62626532]\n",
      " [0.62633283]\n",
      " [0.62626532]\n",
      " [0.62606323]\n",
      " [0.62572788]\n",
      " [0.62526146]\n",
      " [0.624667  ]\n",
      " [0.62394838]\n",
      " [0.62311026]\n",
      " [0.62215809]\n",
      " [0.62109801]\n",
      " [0.61993687]\n",
      " [0.61868213]\n",
      " [0.61734181]\n",
      " [0.61592444]\n",
      " [0.61443899]\n",
      " [0.61289476]\n",
      " [0.61130137]\n",
      " [0.60966863]\n",
      " [0.60800647]\n",
      " [0.60632489]\n",
      " [0.60463384]\n",
      " [0.60294315]\n",
      " [0.60126247]\n",
      " [0.59960116]\n",
      " [0.59796828]\n",
      " [0.59637246]\n",
      " [0.59482188]\n",
      " [0.59332419]\n",
      " [0.59188649]\n",
      " [0.59051528]\n",
      " [0.58921642]\n",
      " [0.58799512]\n",
      " [0.58685593]\n",
      " [0.5858027 ]\n",
      " [0.58483864]\n",
      " [0.58396627]\n",
      " [0.58318746]\n",
      " [0.58250345]\n",
      " [0.58191489]\n",
      " [0.58142185]\n",
      " [0.58102385]\n",
      " [0.58071996]\n",
      " [0.58050874]\n",
      " [0.58038839]\n",
      " [0.5803567 ]\n",
      " [0.58041119]\n",
      " [0.58054905]\n",
      " [0.58076729]\n",
      " [0.5810627 ]\n",
      " [0.58143194]\n",
      " [0.58187154]]\n"
     ]
    }
   ],
   "source": [
    "Solve(10,10)"
   ]
  },
  {
   "cell_type": "code",
   "execution_count": null,
   "metadata": {},
   "outputs": [],
   "source": []
  },
  {
   "cell_type": "code",
   "execution_count": null,
   "metadata": {},
   "outputs": [],
   "source": []
  },
  {
   "cell_type": "code",
   "execution_count": null,
   "metadata": {},
   "outputs": [],
   "source": []
  }
 ],
 "metadata": {
  "kernelspec": {
   "display_name": "Python 3",
   "language": "python",
   "name": "python3"
  },
  "language_info": {
   "codemirror_mode": {
    "name": "ipython",
    "version": 3
   },
   "file_extension": ".py",
   "mimetype": "text/x-python",
   "name": "python",
   "nbconvert_exporter": "python",
   "pygments_lexer": "ipython3",
   "version": "3.7.3"
  }
 },
 "nbformat": 4,
 "nbformat_minor": 2
}
