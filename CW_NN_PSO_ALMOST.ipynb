{
 "cells": [
  {
   "cell_type": "code",
   "execution_count": 1,
   "metadata": {},
   "outputs": [],
   "source": [
    "import numpy as np\n",
    "import random\n",
    "import pandas as pd\n",
    "import matplotlib.pyplot as plt\n",
    "%matplotlib inline\n",
    "import time"
   ]
  },
  {
   "cell_type": "markdown",
   "metadata": {},
   "source": [
    "## Activation functions"
   ]
  },
  {
   "cell_type": "code",
   "execution_count": 2,
   "metadata": {},
   "outputs": [],
   "source": [
    "def sigmoid(x):\n",
    "    \"\"\"Returns the sigmoid function for a given variable x\"\"\"\n",
    "    return 1/(1+np.exp(-x))\n",
    "\n",
    "def tanh(x):\n",
    "    \"\"\"Returns the tanH activation for a given variable x\"\"\"\n",
    "    return np.tanh(x)\n",
    "\n",
    "def cosine(x):\n",
    "    \"\"\"Returns the cosine activation for a given variable x\"\"\"\n",
    "    return np.cos(x)\n",
    "\n",
    "def gaussian(x):\n",
    "    \"\"\"Returns the gaussian activation for a given variable x\"\"\"\n",
    "    return np.exp(-((x**2)/2))"
   ]
  },
  {
   "cell_type": "markdown",
   "metadata": {},
   "source": [
    "## Inputs & Outputs"
   ]
  },
  {
   "cell_type": "code",
   "execution_count": 3,
   "metadata": {},
   "outputs": [],
   "source": [
    "#Linear\n",
    "data = np.loadtxt(\"Data/1in_linear.txt\")\n",
    "x = data[:, :1] # All input variables stored as x\n",
    "y = data[:, 1:] # All test variables stored as y"
   ]
  },
  {
   "cell_type": "markdown",
   "metadata": {},
   "source": [
    "## Simplified Neural Network"
   ]
  },
  {
   "cell_type": "markdown",
   "metadata": {},
   "source": [
    "\n",
    "\n"
   ]
  },
  {
   "cell_type": "code",
   "execution_count": 123,
   "metadata": {},
   "outputs": [],
   "source": [
    "class NeuralNetwork(object):\n",
    "    \n",
    "    def __init__(self, x, y):\n",
    "        \"\"\"\n",
    "        The NeuralNetwork object has a fitness attribute that is initialised at infinity\n",
    "        and will will be updated\n",
    "        \n",
    "        The architecture of the network can be adjusted by changing the inputLayerSize,\n",
    "        outputLayerSize, hiddenlayerSize. \n",
    "        \n",
    "        The Network hyperparameters:\n",
    "        -----------------------------\n",
    "        W1: weights from the input layer to the hidden layer. Randomly initialised\n",
    "        W2: weights from the hidden layer to the output layer. Randomly initialised\n",
    "        a2_func: activation function of the hidden layer\n",
    "        yHat_func: activation of the output layer\n",
    "        b1: input to hidden bias\n",
    "        b2: hidden to output bias\n",
    "        \n",
    "        The Particle Parameters:\n",
    "        ------------------------\n",
    "        position: uses the getParams function which yields an array of parameter values\n",
    "        personal_best_position: is initialised as current position\n",
    "        personal_best_value: is initialised at infinity\n",
    "        self.velocity: is initialised at 0 in the shape of the position array\n",
    "        \"\"\"\n",
    "        \n",
    "        #Network architecture \n",
    "        self.inputLayerSize=1\n",
    "        self.outputLayerSize=1\n",
    "        self.hiddenlayerSize=3\n",
    "        \n",
    "        #Network hyperparameters\n",
    "        self.W1 = np.random.randn(self.inputLayerSize, self.hiddenlayerSize)\n",
    "        self.W2 = np.random.randn(self.hiddenlayerSize, self.outputLayerSize)\n",
    "        self.a2_func = sigmoid\n",
    "        self.yHat_func = sigmoid\n",
    "        self.b1 = random.random()\n",
    "        self.b2 = random.random()\n",
    "        \n",
    "        #Particle parameters\n",
    "        self.position = self.getParams\n",
    "        self.personal_best_position = self.position\n",
    "        self.personal_best_value = float(\"inf\")\n",
    "        self.velocity = np.zeros(self.getParams.shape)\n",
    "        self.informants = []\n",
    "        self.informants_best_value = float(\"inf\")\n",
    "        self.informants_best_position = self.getParams\n",
    "        \n",
    "        #Network imput, outputs, fitness\n",
    "        self.imput = x\n",
    "        self.output = y\n",
    "        self.yHat = 0\n",
    "        self.fitness = float(\"inf\") # At the beggining I put it as 0, but I understand the inf here for comparison.\n",
    "        \n",
    "    \n",
    "    def move(self):\n",
    "        \"\"\"The move function will change the particle position based on particle velocity\"\"\"\n",
    "        self.position = self.position + self.velocity\n",
    "     \n",
    "    def __str__(self):\n",
    "        \"\"\"Returns a string representation of particle position and network fitness value\"\"\"\n",
    "        return f\"Position:{self.position}, Fitness:{self.fitness}\"   \n",
    "    \n",
    "    def forward(self):\n",
    "        \"\"\"\n",
    "        Forward propagation of the neural network \n",
    "        z2: is the dot product of input x and W1 plus bias(b1)\n",
    "        a2: is the activation of the z2\n",
    "        z3: is the dot product of a2 and W2 plus bias(b2)\n",
    "        yHat: is the activation of the z3\n",
    "        \"\"\"\n",
    "        self.z2 = np.dot(self.imput, self.W1) + self.b1       \n",
    "        self.a2 = self.a2_func(self.z2)                 \n",
    "        self.z3 = np.dot(self.a2, self.W2) + self.b2 \n",
    "        self.yHat = self.yHat_func(self.z3)      \n",
    "        return self.yHat \n",
    "    \n",
    "    def mse(self):\n",
    "        mse = np.square(np.subtract(self.output,self.yHat)).mean()\n",
    "        self.fitness = mse\n",
    "        return mse\n",
    "    \n",
    "    @property\n",
    "    def getParams(self):\n",
    "        \"\"\"Returns the parameters of the neural network in an array that can be used in PSO\"\"\"\n",
    "        array = self.W1.ravel()\n",
    "        array = np.append(array,self.W2.ravel())\n",
    "        array = np.append(array,self.b1)\n",
    "        array = np.append(array,self.b2)\n",
    "        return array"
   ]
  },
  {
   "cell_type": "code",
   "execution_count": 124,
   "metadata": {},
   "outputs": [
    {
     "data": {
      "text/plain": [
       "100"
      ]
     },
     "execution_count": 124,
     "metadata": {},
     "output_type": "execute_result"
    }
   ],
   "source": [
    "# Steps to make the neural network work: first call the method neural network, then forward, then fitness\n",
    "    # then call the variable network.fitness\n",
    "nn1 = NeuralNetwork(x,y)\n",
    "nn1.forward()\n",
    "a = nn1.mse() \n",
    "len(nn1.yHat)"
   ]
  },
  {
   "cell_type": "code",
   "execution_count": 125,
   "metadata": {},
   "outputs": [
    {
     "data": {
      "image/png": "[encoded data removed]",
      "text/plain": [
       "<Figure size 432x288 with 1 Axes>"
      ]
     },
     "metadata": {
      "needs_background": "light"
     },
     "output_type": "display_data"
    }
   ],
   "source": [
    "plt.figure()\n",
    "y2 = nn1.yHat\n",
    "plt.plot(y,\"red\",y2,\"blue\")\n",
    "plt.title(\"y,yHat\")\n",
    "# plt.xlabel(\"Iterations\")\n",
    "# plt.ylabel(\"Errors\")\n",
    "plt.show()"
   ]
  },
  {
   "cell_type": "markdown",
   "metadata": {},
   "source": [
    "## PSO"
   ]
  },
  {
   "cell_type": "code",
   "execution_count": 126,
   "metadata": {},
   "outputs": [],
   "source": [
    "class PSO:\n",
    "    \n",
    "    def __init__(self, n_networks):\n",
    "        \"\"\"\n",
    "        The PSO object contains an input n_networks which is the number of neural networks\n",
    "        that are to be initialised.\n",
    "        networks: is a list to store the initialised networks\n",
    "        global_best_value: is initialised as infinity\n",
    "        global_best_position: gets its shape from the Neural Network's getParams function\n",
    "        yHat: is initialised at floating point 0. It is needed to plot a graph\n",
    "        yHat_l: is a list to store the yHat values that is needed to plot a graph\n",
    "        \"\"\"\n",
    "        self.n_networks = n_networks\n",
    "        self.networks = [NeuralNetwork(x,y) for i in range(self.n_networks)]\n",
    "        self.global_best_value = float(\"inf\")\n",
    "        #self.informants_best_value = float(\"inf\")\n",
    "        #self.informants_best_poisition = NeuralNetwork(x,y).getParams.shape\n",
    "        self.global_best_position = NeuralNetwork(x,y).getParams.shape\n",
    "        self.global_best_yHat = 0\n",
    "    \n",
    "    def set_personal_best(self):\n",
    "        \"\"\"\n",
    "        The set_personal_best method loops through a list of networks, assisigns a \n",
    "        fitness_candidate which is the network's fitness. If the networks' \n",
    "        personal_best_value is greater that fitness_candidate; it then assigns the \n",
    "        personal_best_value as the fitness_candidate. It then updates the network's\n",
    "        personal_best_position as the network's position.\n",
    "        \"\"\"\n",
    "        for network in self.networks:\n",
    "            if(network.personal_best_value > network.fitness):\n",
    "                network.personal_best_value = network.fitness\n",
    "                network.personal_best_position = network.position\n",
    "                \n",
    "    \n",
    "    def get_personal_best(self):\n",
    "        particles_position = []\n",
    "        for network in self.networks:\n",
    "            particles_position.append(network.position)\n",
    "        return \n",
    "    \n",
    "    # The variable informants is in each network, here I just create informants for each of them.\n",
    "    def set_informants(self):\n",
    "        for network in self.networks:\n",
    "            informants = random.choices(self.networks, k=3) # 3 informants for each particle\n",
    "            network.informants = informants\n",
    "    \n",
    "    # In this funcion I am instantiating the best_value of each informant in     \n",
    "    def set_informants_best(self):\n",
    "        for network in self.networks:\n",
    "            for informant in network.informants:\n",
    "                if(informant.personal_best_value > informant.fitness):\n",
    "                    informant.informants_best_value = informant.fitness\n",
    "                    informant.informants_best_position = informant.position\n",
    "        \n",
    "    def set_global_best(self):\n",
    "        \"\"\"\n",
    "        The set_global_best method loops through a list of networks and assigns the \n",
    "        best_fitness_candidate to the network's fitness. If the global_best_value \n",
    "        is greater than the best_fitness_candidate the global_best_value is assigned as \n",
    "        best_fitness_candidate and the global_best_position becomes the network's position\n",
    "        \"\"\"\n",
    "        for network in self.networks:\n",
    "             if(self.global_best_value > network.personal_best_value):\n",
    "                self.global_best_value = network.personal_best_value\n",
    "                self.global_best_position = network.position\n",
    "                self.global_best_yHat = network.yHat\n",
    "                \n",
    "        \n",
    "    def get_global_best(self):\n",
    "        print (f\"Value:{self.global_best_value}, Position: {self.global_best_position}\")\n",
    "    \n",
    "                \n",
    "    def move_particles(self):\n",
    "        \"\"\"\n",
    "        The move_particles method contains:\n",
    "        \n",
    "        the Intertia weight(W)\n",
    "        Cognitive(c1)\n",
    "        Social(c2) weights of the PSO algorithm which can be adjusted.\n",
    "        \n",
    "        This method loops through a list of neural networks and stores the product of \n",
    "        of interia weight multiplied by network's velocity plus a random number multiplied \n",
    "        by the cognitive weight multiplied by the difference of the personal_best_position\n",
    "        of the network and network's position plus the social weight into a random number\n",
    "        multiplied by the difference of global_best_position of the networks and network's\n",
    "        position in a variable called new_velocity. It then assigns the network's velocity\n",
    "        to this variable and calls the move function from NeuralNetwork class. \n",
    "        \"\"\"\n",
    "        a = 0.5 # Intertia\n",
    "        b = 0.8 #Cognitive/personal velocity\n",
    "        c = 0.9 # Social velocity\n",
    "        d = 1 # informants\n",
    "        e = 1 # Jump\n",
    "        \n",
    "        for network in self.networks:\n",
    "            new_velocity = (a*network.velocity) + (b*random.random())*\\\n",
    "            (network.personal_best_position - network.position) +\\\n",
    "            (c*random.random())*(self.global_best_position - network.position) + \\\n",
    "            (d*random.random())*(network.informants_best_position - network.position)\n",
    "            network.velocity = e*new_velocity\n",
    "            network.move()\n",
    "            \n",
    "        # I added the Jump (the value is 1 by the pseudocode of the book they suggest, so does not affect)\n",
    "        # but I think we do need to put it.\n",
    "        \n",
    "    def optimise(self):\n",
    "        \"\"\"\n",
    "        The optimise method loops through a list of neural networks and:\n",
    "        w1: takes the first three numbers from network's position array which is then \n",
    "        reshaped to the dimensions of the NeuralNetwork object's W1 parameter\n",
    "        w2: takes the next three numbers from network's position array which is then \n",
    "        reshaped to the dimensions of the NeuralNetwork object's W2 parameter\n",
    "        b1: takes the 7th item from the array\n",
    "        b2: takes the 8th item from the array\n",
    "        \n",
    "        and uses these variables to forward propagate the neural network with these values.\n",
    "        z2: is the dot product of input(x) and w1 plus bias(b1)\n",
    "        a2: is the activation of the z2 using the activation function in NeuralNetwork class\n",
    "        z3: is the dot product of a2 and W2 plus bias(b2)\n",
    "        yHat: is the activation of the z3 using the activation function in NeuralNetwork class\n",
    "        yHat_l: the yHat values are stored in a list for plotting graphs\n",
    "        error: is calculated by using the Mean Square Error(mse) method using the target value(y)\n",
    "        and predicted value(yHat). The network's fitness is updated using the error.\n",
    "        \"\"\"\n",
    "        for network in self.networks:\n",
    "            #w1 = network.position[0:3]\n",
    "            #w2 = network.position[3:6]\n",
    "            #network.w1 = np.reshape(w1,(NeuralNetwork(x,y).W1.shape)) \n",
    "            #network.w2 = np.reshape(w2,(NeuralNetwork(x,y).W2.shape)) \n",
    "            #b1 = network.position[6:7]\n",
    "            #b2 = network.position[7]\n",
    "            #print(f\"uno: {network.position},fitness:{network.fitness}\")\n",
    "            \n",
    "         # by calling the methods here, the optimization is automatic and I do not need to call them outside.\n",
    "         # just by calling PSO(num_NN) it is done.\n",
    "            network.forward()\n",
    "            network.mse()\n",
    "            self.set_personal_best()\n",
    "            self.set_informants()\n",
    "            self.set_informants_best()\n",
    "            self.set_global_best()\n",
    "            self.move_particles()\n",
    "            "
   ]
  },
  {
   "cell_type": "code",
   "execution_count": 141,
   "metadata": {},
   "outputs": [
    {
     "name": "stdout",
     "output_type": "stream",
     "text": [
      "Value:0.3013095075244128, Position: [-0.88069461 -0.90660991 -0.50914102 -0.85663886 -1.12066471  0.21233808\n",
      "  0.29289229  0.5170865 ]\n"
     ]
    }
   ],
   "source": [
    "pso1 = PSO(10)\n",
    "pso1.optimise()\n",
    "pso1.get_global_best()\n",
    "# Look at the first value since is the "
   ]
  },
  {
   "cell_type": "code",
   "execution_count": 142,
   "metadata": {},
   "outputs": [
    {
     "data": {
      "image/png": "[encoded data removed]",
      "text/plain": [
       "<Figure size 432x288 with 1 Axes>"
      ]
     },
     "metadata": {
      "needs_background": "light"
     },
     "output_type": "display_data"
    }
   ],
   "source": [
    "plt.figure()\n",
    "yHat1 = pso1.global_best_yHat\n",
    "plt.plot(y,\"red\",yHat1,\"blue\")\n",
    "plt.title(\"y,yHat\")\n",
    "# plt.xlabel(\"Iterations\")\n",
    "# plt.ylabel(\"Errors\")\n",
    "plt.show()"
   ]
  },
  {
   "cell_type": "code",
   "execution_count": null,
   "metadata": {
    "scrolled": false
   },
   "outputs": [],
   "source": [
    "pso = PSO(10)\n",
    "n_iterations = 1000000000\n",
    "error_list = []\n",
    "yHat = 0\n",
    "# The start time to calculate how long the algorithm takes. \n",
    "start = time.process_time()\n",
    "# Sets the number of starting iterations/epochs\n",
    "\n",
    "iterations = 0\n",
    "while(iterations < n_iterations) or (pso.global_best_value == 0.):\n",
    "    \n",
    "    \n",
    "    \n",
    "    # Starting from the 1st iteration: prints the number of iterations, the global_best_value \n",
    "    # and the predicted(yHat) value. Also appends the global_best_value to the error_list\n",
    "    #if iterations!=0:\n",
    "     #   print(f\"Iteration:{str(iterations)} Error:{pso.global_best_value} yHat:{pso.global_best_yHat}\")\n",
    "    #    error_list.append(pso.global_best_value)\n",
    "    pso.optimise()\n",
    "    #print(\"new iteration\")\n",
    "    # PSO algorithm is executed by this methods \n",
    "    # Updates iterations\n",
    "    iterations +=1\n",
    " \n",
    "\n",
    "    #the global_best_value and the time taken to execute the algorithm\n",
    "print(f\"GlobalBest: {pso.global_best_position} iters: {iterations} GlobalBestVal: {pso.global_best_value}\")\n",
    "print(f\"------------------------ total time taken: {time.process_time() - start} seconds\") \n",
    "\n",
    "    "
   ]
  },
  {
   "cell_type": "code",
   "execution_count": 156,
   "metadata": {},
   "outputs": [
    {
     "data": {
      "text/plain": [
       "(array([ 0.28604753, -0.41337239,  1.13312953,  0.38688794, -1.40144375,\n",
       "         0.78421914,  0.62343738,  0.16855084]), 0.5127503110549094)"
      ]
     },
     "execution_count": 156,
     "metadata": {},
     "output_type": "execute_result"
    }
   ],
   "source": [
    "yvalue = pso.global_best_value\n",
    "yposition = pso.global_best_position\n",
    "yposition, yvalue"
   ]
  },
  {
   "cell_type": "code",
   "execution_count": 149,
   "metadata": {},
   "outputs": [
    {
     "data": {
      "image/png": "[encoded data removed]",
      "text/plain": [
       "<Figure size 432x288 with 1 Axes>"
      ]
     },
     "metadata": {
      "needs_background": "light"
     },
     "output_type": "display_data"
    }
   ],
   "source": [
    "yHat = pso.global_best_yHat\n",
    "plt.figure()\n",
    "\n",
    "plt.plot(y,\"red\",yHat,\"blue\")\n",
    "plt.title(\"y,yHat\")\n",
    "# plt.xlabel(\"Iterations\")\n",
    "# plt.ylabel(\"Errors\")\n",
    "plt.show()"
   ]
  },
  {
   "cell_type": "code",
   "execution_count": 155,
   "metadata": {},
   "outputs": [
    {
     "data": {
      "image/png": "[encoded data removed]",
      "text/plain": [
       "<Figure size 432x288 with 1 Axes>"
      ]
     },
     "metadata": {
      "needs_background": "light"
     },
     "output_type": "display_data"
    }
   ],
   "source": [
    "fitness = pso.global_best_value\n",
    "plt.figure()\n",
    " \n",
    "    # this needs a real time graph ---\n",
    "plt.plot(y,\"red\",fitness,\"blue\")\n",
    "plt.title(\"y,yHat\")\n",
    "# plt.xlabel(\"Iterations\")\n",
    "# plt.ylabel(\"Errors\")\n",
    "plt.show()"
   ]
  },
  {
   "cell_type": "code",
   "execution_count": null,
   "metadata": {},
   "outputs": [],
   "source": []
  }
 ],
 "metadata": {
  "kernelspec": {
   "display_name": "Python 3",
   "language": "python",
   "name": "python3"
  },
  "language_info": {
   "codemirror_mode": {
    "name": "ipython",
    "version": 3
   },
   "file_extension": ".py",
   "mimetype": "text/x-python",
   "name": "python",
   "nbconvert_exporter": "python",
   "pygments_lexer": "ipython3",
   "version": "3.7.3"
  }
 },
 "nbformat": 4,
 "nbformat_minor": 2
}
