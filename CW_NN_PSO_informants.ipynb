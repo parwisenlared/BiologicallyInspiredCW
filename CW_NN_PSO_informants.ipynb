{
 "cells": [
  {
   "cell_type": "code",
   "execution_count": 1,
   "metadata": {},
   "outputs": [],
   "source": [
    "import numpy as np\n",
    "import random\n",
    "import pandas as pd\n",
    "import matplotlib.pyplot as plt\n",
    "%matplotlib inline\n",
    "import time"
   ]
  },
  {
   "cell_type": "markdown",
   "metadata": {},
   "source": [
    "## Activation functions"
   ]
  },
  {
   "cell_type": "code",
   "execution_count": 2,
   "metadata": {},
   "outputs": [],
   "source": [
    "def sigmoid(x):\n",
    "    \"\"\"Returns the sigmoid activation for a given variable x\"\"\"\n",
    "    return 1/(1+np.exp(-x))\n",
    "\n",
    "def tanh(x):\n",
    "    \"\"\"Returns the tanH activation for a given variable x\"\"\"\n",
    "    return np.tanh(x)\n",
    "\n",
    "def cosine(x):\n",
    "    \"\"\"Returns the cosine activation for a given variable x\"\"\"\n",
    "    return np.cos(x)\n",
    "\n",
    "def gaussian(x):\n",
    "    \"\"\"Returns the gaussian activation for a given variable x\"\"\"\n",
    "    return np.exp(-((x**2)/2))"
   ]
  },
  {
   "cell_type": "markdown",
   "metadata": {},
   "source": [
    "## Inputs & Outputs"
   ]
  },
  {
   "cell_type": "code",
   "execution_count": 3,
   "metadata": {},
   "outputs": [],
   "source": [
    "#Linear\n",
    "data = np.loadtxt(\"Data/1in_linear.txt\")\n",
    "x = data[:, :1] # All input variables stored as x\n",
    "y = data[:, 1:] # All test variables stored as y"
   ]
  },
  {
   "cell_type": "markdown",
   "metadata": {},
   "source": [
    "## Simplified Neural Network"
   ]
  },
  {
   "cell_type": "markdown",
   "metadata": {},
   "source": [
    "\n",
    "\n"
   ]
  },
  {
   "cell_type": "code",
   "execution_count": 4,
   "metadata": {},
   "outputs": [],
   "source": [
    "class NeuralNetwork(object):\n",
    "    \n",
    "    def __init__(self):\n",
    "        \"\"\"\n",
    "        The NeuralNetwork object has a fitness attribute that is initialised at infinity\n",
    "        and will will be updated\n",
    "        \n",
    "        The architecture of the network can be adjusted by changing the inputLayerSize,\n",
    "        outputLayerSize, hiddenlayerSize. \n",
    "        \n",
    "        The Network hyperparameters:\n",
    "        -----------------------------\n",
    "        W1: weights from the input layer to the hidden layer. Randomly initialised\n",
    "        W2: weights from the hidden layer to the output layer. Randomly initialised\n",
    "        a2_func: activation function of the hidden layer\n",
    "        yHat_func: activation of the output layer\n",
    "        b1: input to hidden bias\n",
    "        b2: hidden to output bias\n",
    "        \n",
    "        The Particle Parameters:\n",
    "        ------------------------\n",
    "        position: uses the getParams function which yields an array of parameter values\n",
    "        personal_best_position: is initialised as current position\n",
    "        personal_best_value: is initialised at infinity\n",
    "        self.velocity: is initialised at 0 in the shape of the position array\n",
    "        \"\"\"\n",
    "        self.fitness = float(\"inf\")\n",
    "        \n",
    "        #Network architecture \n",
    "        self.inputLayerSize=1\n",
    "        self.outputLayerSize=1\n",
    "        self.hiddenlayerSize=3\n",
    "        \n",
    "        #Network hyperparameters\n",
    "        self.W1 = np.random.randn(self.inputLayerSize, self.hiddenlayerSize)\n",
    "        self.W2 = np.random.randn(self.hiddenlayerSize, self.outputLayerSize)\n",
    "        self.a2_func = sigmoid\n",
    "        self.yHat_func = sigmoid\n",
    "        self.b1 = random.random()\n",
    "        self.b2 = random.random()\n",
    "        \n",
    "        #Particle parameters\n",
    "        self.position = self.getParams\n",
    "        self.personal_best_position = self.position\n",
    "        self.personal_best_value = float(\"inf\")\n",
    "        self.velocity = np.zeros(self.getParams.shape)\n",
    "        self.informants = []\n",
    "    \n",
    "       \n",
    "    def move(self):\n",
    "        \"\"\"The move function will change the particle position based on particle velocity\"\"\"\n",
    "        self.position = self.position + self.velocity\n",
    "     \n",
    "    def __str__(self):\n",
    "        \"\"\"Returns a string representation of particle position and network fitness value\"\"\"\n",
    "        return f\"Position:{self.position}, Fitness:{self.fitness}\"   \n",
    "    \n",
    "    def forward(self, X):\n",
    "        \"\"\"\n",
    "        Forward propagation of the neural network \n",
    "        z2: is the dot product of input x and W1 plus bias(b1)\n",
    "        a2: is the activation of the z2\n",
    "        z3: is the dot product of a2 and W2 plus bias(b2)\n",
    "        yHat: is the activation of the z3\n",
    "        \"\"\"\n",
    "        self.z2 = np.dot(X, self.W1) + self.b1       \n",
    "        self.a2 = self.a2_func(self.z2)                 \n",
    "        self.z3 = np.dot(self.a2, self.W2) + self.b2 \n",
    "        yHat = self.yHat_func(self.z3)      \n",
    "        return yHat        \n",
    "    \n",
    "    @property\n",
    "    def getParams(self):\n",
    "        \"\"\"Returns the parameters of the neural network in an array that can be used in PSO\"\"\"\n",
    "        array = self.W1.ravel()\n",
    "        array = np.append(array,self.W2.ravel())\n",
    "        array = np.append(array,self.b1)\n",
    "        array = np.append(array,self.b2)\n",
    "        return array"
   ]
  },
  {
   "cell_type": "code",
   "execution_count": 5,
   "metadata": {},
   "outputs": [],
   "source": [
    "def mse(predicted, target):\n",
    "    \"\"\"\n",
    "    Mean Squared Error is calculated using the difference of the predicted value(yHat)\n",
    "    and the target value(y)\n",
    "    \"\"\"\n",
    "    mse = np.square(np.subtract(predicted,target)).mean()\n",
    "    return mse   \n",
    "\n",
    "def feedForward(networks):\n",
    "    \"\"\"\n",
    "    The feedForward method loops through a list of networks and input values(x) and\n",
    "    uses the Neural Network's forward propagation function to calculate a yHat value.\n",
    "    An error is calculated using the Mean Squared Error function using the target value(y)\n",
    "    and yHat.\n",
    "    The error value becomes the network's fitness. \n",
    "    \"\"\"\n",
    "    for network in networks:\n",
    "        for col_val_x in x:\n",
    "            yHat = network.forward(col_val_x)\n",
    "            for col_val_y in y:\n",
    "                error = mse(col_val_y,yHat)\n",
    "            network.fitness = error\n",
    "    return networks\n"
   ]
  },
  {
   "cell_type": "markdown",
   "metadata": {},
   "source": [
    "## PSO"
   ]
  },
  {
   "cell_type": "code",
   "execution_count": 6,
   "metadata": {},
   "outputs": [],
   "source": [
    "class PSO:\n",
    "    \n",
    "    def __init__(self, n_networks):\n",
    "        self.n_networks = n_networks\n",
    "        self.networks = []\n",
    "#         self.global_best_value = float(\"inf\")\n",
    "#         self.global_best_position = NeuralNetwork().getParams.shape\n",
    "        self.yHat=0.\n",
    "        self.yHat_l=[]\n",
    "        self.informants_best_value = float(\"inf\")\n",
    "        self.informants=[]\n",
    "        self.informants_best_poisition = NeuralNetwork().getParams.shape\n",
    "        \n",
    "    def fitness(self, network):\n",
    "        return network.fitness\n",
    "    \n",
    "    def selectInformants(self):\n",
    "        for network in self.networks:\n",
    "            self.informants.append(network) \n",
    "            k=3\n",
    "            self.informants.extend(random.sample(self.networks,k))        \n",
    "\n",
    "    def set_informant_best(self):\n",
    "        for network in self.informants:\n",
    "            best_fitness_candidate = self.fitness(network)\n",
    "            if(self.informants_best_value > best_fitness_candidate):\n",
    "                self.informants_best_value = best_fitness_candidate\n",
    "                self.informants_best_poisition = network.position\n",
    "    \n",
    "    def set_personal_best(self):\n",
    "        for network in self.networks:\n",
    "            fitness_candidate = self.fitness(network)\n",
    "            if(network.personal_best_value > fitness_candidate):\n",
    "                network.personal_best_value = fitness_candidate\n",
    "                network.personal_best_position = network.position \n",
    "                     \n",
    "#     def set_global_best(self):\n",
    "#         for network in self.networks:\n",
    "#             best_fitness_candidate = self.fitness(network)\n",
    "#             if(self.global_best_value > best_fitness_candidate):\n",
    "#                 self.global_best_value = best_fitness_candidate\n",
    "#                 self.global_best_position = network.position\n",
    "                \n",
    "    def move_particles(self):\n",
    "        W = 0.5 # Intertia\n",
    "        c1 = 0.8 #Cognitive/personal velocity\n",
    "        c2 = 0.9 # Social velocity\n",
    "        \n",
    "        for network in self.networks:\n",
    "            new_velocity = (W*network.velocity) + (c1*random.random())*\\\n",
    "            (network.personal_best_position - network.position) +\\\n",
    "            (c2*random.random())*(self.informants_best_poisition - network.position)\n",
    "            network.velocity = new_velocity\n",
    "            network.move()\n",
    "    \n",
    "    def optimise(self):\n",
    "        for network in self.networks:\n",
    "            w1 = network.position[0:3]\n",
    "            w2 = network.position[3:6]\n",
    "            w1 = np.reshape(w1,(NeuralNetwork().W1.shape)) \n",
    "            w2 = np.reshape(w2,(NeuralNetwork().W2.shape)) \n",
    "            b1 = network.position[6:7]\n",
    "            b2 = network.position[7]\n",
    "                #Forward\n",
    "            for col_val_x in x:\n",
    "                z2 = np.dot(col_val_x, w1) +b1\n",
    "                a2 = network.a2_func(z2)\n",
    "                z3 = np.dot(a2, w2) +b2\n",
    "                self.yHat = network.yHat_func(z3)\n",
    "                self.yHat_l.append(self.yHat)\n",
    "                for col_val_y in y:\n",
    "                    error = mse(col_val_y,self.yHat)\n",
    "                    network.fitness = error        "
   ]
  },
  {
   "cell_type": "code",
   "execution_count": 7,
   "metadata": {
    "scrolled": true
   },
   "outputs": [
    {
     "name": "stdout",
     "output_type": "stream",
     "text": [
      "Iteration:1 yHat:[0.87739483] Error: 0.01052782080382035\n",
      "Iteration:2 yHat:[0.97073657] Error: 8.581117562941495e-05\n",
      "Iteration:3 yHat:[0.98593937] Error: 3.527613302536053e-05\n",
      "Iteration:4 yHat:[0.99025277] Error: 0.00010511931736864332\n",
      "Iteration:5 yHat:[0.9865497] Error: 4.28986174810958e-05\n",
      "Iteration:6 yHat:[0.98281667] Error: 7.93364533773564e-06\n",
      "Iteration:7 yHat:[0.97951345] Error: 2.3673515266578087e-07\n",
      "Iteration:8 yHat:[0.97765876] Error: 5.481385838778388e-06\n",
      "Iteration:9 yHat:[0.9793122] Error: 4.7306202962693925e-07\n",
      "------------------------ total time taken: 6.296875 seconds\n"
     ]
    }
   ],
   "source": [
    "num_networks = 10 # Number of networks are to be initialised \n",
    "n_iterations = 10 # Number of iterations/epochs that the PSO should run  \n",
    "\n",
    "pso = PSO(num_networks) # Instantiation of the PSO\n",
    "\n",
    "# Generates num_networks times NeuralNetwork objects and assigns it to a list \n",
    "particles_vector = [NeuralNetwork() for i in range(num_networks)]  \n",
    "\n",
    "# Forward propagation of all the neural networks\n",
    "particles_vector = feedForward(particles_vector)\n",
    "\n",
    "# Assigns the list of neural networks to a list object in PSO class\n",
    "pso.networks = particles_vector\n",
    "\n",
    "# The start time to calculate how long the algorithm takes. \n",
    "start = time.process_time()\n",
    "\n",
    "# Sets the number of starting iterations/epochs\n",
    "iterations = 0\n",
    "\n",
    "# While-loop that continues until total number of iterations or until the global best value = 0\n",
    "while(iterations < n_iterations):\n",
    "    \n",
    "    if iterations!=0:\n",
    "        for network in pso.networks:\n",
    "            network_best_error = float(\"inf\")\n",
    "            best_error_candidate = network.fitness\n",
    "            if(network_best_error > network.fitness):\n",
    "                network_best_error = network.fitness\n",
    "            \n",
    "            \n",
    "        print(f\"Iteration:{str(iterations)} yHat:{pso.yHat} Error: {network_best_error}\")\n",
    "\n",
    "    \n",
    "    # PSO algorithm is executed by these methods\n",
    "    pso.set_personal_best()\n",
    "    pso.selectInformants()  \n",
    "    pso.set_informant_best()\n",
    "    pso.move_particles()\n",
    "    pso.optimise()\n",
    "    \n",
    "    # Updates iterations\n",
    "    iterations +=1\n",
    "\n",
    "# Prints out the final global_best_position, the total number of iterations, \n",
    "# the global_best_value and the time taken to execute the algorithm\n",
    "# print(f\"GlobalBest: {pso.global_best_position} iters: {iterations} GlobalBestVal: {pso.global_best_value}\")\n",
    "print(f\"------------------------ total time taken: {time.process_time() - start} seconds\")       "
   ]
  },
  {
   "cell_type": "code",
   "execution_count": 8,
   "metadata": {},
   "outputs": [
    {
     "ename": "NameError",
     "evalue": "name 'error_list' is not defined",
     "output_type": "error",
     "traceback": [
      "\u001b[1;31m---------------------------------------------------------------------------\u001b[0m",
      "\u001b[1;31mNameError\u001b[0m                                 Traceback (most recent call last)",
      "\u001b[1;32m<ipython-input-8-aa191e2b5ecb>\u001b[0m in \u001b[0;36m<module>\u001b[1;34m\u001b[0m\n\u001b[0;32m      1\u001b[0m \u001b[0mplt\u001b[0m\u001b[1;33m.\u001b[0m\u001b[0mfigure\u001b[0m\u001b[1;33m(\u001b[0m\u001b[1;33m)\u001b[0m\u001b[1;33m\u001b[0m\u001b[1;33m\u001b[0m\u001b[0m\n\u001b[1;32m----> 2\u001b[1;33m \u001b[0mplt\u001b[0m\u001b[1;33m.\u001b[0m\u001b[0mplot\u001b[0m\u001b[1;33m(\u001b[0m\u001b[0merror_list\u001b[0m\u001b[1;33m)\u001b[0m\u001b[1;33m\u001b[0m\u001b[1;33m\u001b[0m\u001b[0m\n\u001b[0m\u001b[0;32m      3\u001b[0m \u001b[0mplt\u001b[0m\u001b[1;33m.\u001b[0m\u001b[0mtitle\u001b[0m\u001b[1;33m(\u001b[0m\u001b[1;34m\"Error rate\"\u001b[0m\u001b[1;33m)\u001b[0m\u001b[1;33m\u001b[0m\u001b[1;33m\u001b[0m\u001b[0m\n\u001b[0;32m      4\u001b[0m \u001b[0mplt\u001b[0m\u001b[1;33m.\u001b[0m\u001b[0mxlabel\u001b[0m\u001b[1;33m(\u001b[0m\u001b[1;34m\"Iterations\"\u001b[0m\u001b[1;33m)\u001b[0m\u001b[1;33m\u001b[0m\u001b[1;33m\u001b[0m\u001b[0m\n\u001b[0;32m      5\u001b[0m \u001b[0mplt\u001b[0m\u001b[1;33m.\u001b[0m\u001b[0mylabel\u001b[0m\u001b[1;33m(\u001b[0m\u001b[1;34m\"Errors\"\u001b[0m\u001b[1;33m)\u001b[0m\u001b[1;33m\u001b[0m\u001b[1;33m\u001b[0m\u001b[0m\n",
      "\u001b[1;31mNameError\u001b[0m: name 'error_list' is not defined"
     ]
    },
    {
     "data": {
      "text/plain": [
       "<Figure size 432x288 with 0 Axes>"
      ]
     },
     "metadata": {},
     "output_type": "display_data"
    }
   ],
   "source": [
    "# plt.figure()\n",
    "# plt.plot(error_list)\n",
    "# plt.title(\"Error rate\")\n",
    "# plt.xlabel(\"Iterations\")\n",
    "# plt.ylabel(\"Errors\")\n",
    "# plt.show()"
   ]
  },
  {
   "cell_type": "markdown",
   "metadata": {},
   "source": [
    "10,000 instances of yHats = take every 100"
   ]
  },
  {
   "cell_type": "code",
   "execution_count": 9,
   "metadata": {},
   "outputs": [],
   "source": [
    "pso.yHat_l\n",
    "l = pso.yHat_l[0::100]"
   ]
  },
  {
   "cell_type": "code",
   "execution_count": 10,
   "metadata": {},
   "outputs": [
    {
     "data": {
      "image/png": "[encoded data removed]",
      "text/plain": [
       "<Figure size 432x288 with 1 Axes>"
      ]
     },
     "metadata": {
      "needs_background": "light"
     },
     "output_type": "display_data"
    }
   ],
   "source": [
    "plt.figure()\n",
    "plt.plot(y,l)\n",
    "plt.title(\"y,yHat\")\n",
    "# plt.xlabel(\"Iterations\")\n",
    "# plt.ylabel(\"Errors\")\n",
    "plt.show()"
   ]
  },
  {
   "cell_type": "code",
   "execution_count": null,
   "metadata": {},
   "outputs": [],
   "source": []
  },
  {
   "cell_type": "code",
   "execution_count": null,
   "metadata": {},
   "outputs": [],
   "source": []
  },
  {
   "cell_type": "code",
   "execution_count": null,
   "metadata": {},
   "outputs": [],
   "source": []
  },
  {
   "cell_type": "code",
   "execution_count": null,
   "metadata": {},
   "outputs": [],
   "source": [
    "\n",
    "            "
   ]
  },
  {
   "cell_type": "code",
   "execution_count": null,
   "metadata": {},
   "outputs": [],
   "source": []
  },
  {
   "cell_type": "code",
   "execution_count": null,
   "metadata": {},
   "outputs": [],
   "source": []
  },
  {
   "cell_type": "code",
   "execution_count": null,
   "metadata": {},
   "outputs": [],
   "source": []
  }
 ],
 "metadata": {
  "kernelspec": {
   "display_name": "Python 3",
   "language": "python",
   "name": "python3"
  },
  "language_info": {
   "codemirror_mode": {
    "name": "ipython",
    "version": 3
   },
   "file_extension": ".py",
   "mimetype": "text/x-python",
   "name": "python",
   "nbconvert_exporter": "python",
   "pygments_lexer": "ipython3",
   "version": "3.7.1"
  }
 },
 "nbformat": 4,
 "nbformat_minor": 2
}
