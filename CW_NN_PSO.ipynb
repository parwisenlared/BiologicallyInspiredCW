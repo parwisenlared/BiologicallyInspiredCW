{
 "cells": [
  {
   "cell_type": "code",
   "execution_count": 1,
   "metadata": {},
   "outputs": [],
   "source": [
    "import numpy as np\n",
    "import random\n",
    "import pandas as pd\n",
    "import matplotlib.pyplot as plt\n",
    "%matplotlib inline"
   ]
  },
  {
   "cell_type": "markdown",
   "metadata": {},
   "source": [
    "## Activation functions"
   ]
  },
  {
   "cell_type": "code",
   "execution_count": 2,
   "metadata": {},
   "outputs": [],
   "source": [
    "def sigmoid(x):\n",
    "    return 1/(1+np.exp(-x))\n",
    "\n",
    "def tanh(x):\n",
    "    return np.tanh(x)\n",
    "\n",
    "def cosine(x):\n",
    "    return np.cos(x)\n",
    "\n",
    "def gaussian(x):\n",
    "    return np.exp(-((x**2)/2))"
   ]
  },
  {
   "cell_type": "code",
   "execution_count": 3,
   "metadata": {},
   "outputs": [],
   "source": [
    "# activations_list = [sigmoid,tanh,cosine,gaussian]\n",
    "# act_dict = {0.1:sigmoid, 0.2:tanh, 0.3:cosine, 0.4:gaussian}"
   ]
  },
  {
   "cell_type": "markdown",
   "metadata": {},
   "source": [
    "### Testing activation functions"
   ]
  },
  {
   "cell_type": "code",
   "execution_count": 4,
   "metadata": {},
   "outputs": [],
   "source": [
    "test_inputs = np.arange(-10,10,0.01)"
   ]
  },
  {
   "cell_type": "code",
   "execution_count": 5,
   "metadata": {},
   "outputs": [
    {
     "data": {
      "text/plain": [
       "Text(0.5, 1.0, 'Gaussian')"
      ]
     },
     "execution_count": 5,
     "metadata": {},
     "output_type": "execute_result"
    },
    {
     "data": {
      "image/png": "[encoded data removed]",
      "text/plain": [
       "<Figure size 936x216 with 4 Axes>"
      ]
     },
     "metadata": {
      "needs_background": "light"
     },
     "output_type": "display_data"
    }
   ],
   "source": [
    "fig, axes = plt.subplots(nrows=1, ncols=4, figsize=(13,3))\n",
    "axes[0].plot(test_inputs,sigmoid(test_inputs),linewidth=3)\n",
    "axes[0].set_title(\"Sigmoid\")\n",
    "axes[1].plot(test_inputs,tanh(test_inputs),linewidth=3)\n",
    "axes[1].set_title(\"Tanh\")\n",
    "axes[2].plot(test_inputs,cosine(test_inputs),linewidth=3)\n",
    "axes[2].set_title(\"Cosine\")\n",
    "axes[3].plot(test_inputs,gaussian(test_inputs),linewidth=3)\n",
    "axes[3].set_title(\"Gaussian\")"
   ]
  },
  {
   "cell_type": "markdown",
   "metadata": {},
   "source": [
    "## Inputs & Outputs"
   ]
  },
  {
   "cell_type": "code",
   "execution_count": 6,
   "metadata": {},
   "outputs": [
    {
     "data": {
      "text/html": [
       "<div>\n",
       "<style scoped>\n",
       "    .dataframe tbody tr th:only-of-type {\n",
       "        vertical-align: middle;\n",
       "    }\n",
       "\n",
       "    .dataframe tbody tr th {\n",
       "        vertical-align: top;\n",
       "    }\n",
       "\n",
       "    .dataframe thead th {\n",
       "        text-align: right;\n",
       "    }\n",
       "</style>\n",
       "<table border=\"1\" class=\"dataframe\">\n",
       "  <thead>\n",
       "    <tr style=\"text-align: right;\">\n",
       "      <th></th>\n",
       "      <th>x</th>\n",
       "      <th>y</th>\n",
       "    </tr>\n",
       "  </thead>\n",
       "  <tbody>\n",
       "    <tr>\n",
       "      <th>0</th>\n",
       "      <td>-1.00</td>\n",
       "      <td>-1.00</td>\n",
       "    </tr>\n",
       "    <tr>\n",
       "      <th>1</th>\n",
       "      <td>-0.98</td>\n",
       "      <td>-0.98</td>\n",
       "    </tr>\n",
       "    <tr>\n",
       "      <th>2</th>\n",
       "      <td>-0.96</td>\n",
       "      <td>-0.96</td>\n",
       "    </tr>\n",
       "    <tr>\n",
       "      <th>3</th>\n",
       "      <td>-0.94</td>\n",
       "      <td>-0.94</td>\n",
       "    </tr>\n",
       "    <tr>\n",
       "      <th>4</th>\n",
       "      <td>-0.92</td>\n",
       "      <td>-0.92</td>\n",
       "    </tr>\n",
       "  </tbody>\n",
       "</table>\n",
       "</div>"
      ],
      "text/plain": [
       "      x     y\n",
       "0 -1.00 -1.00\n",
       "1 -0.98 -0.98\n",
       "2 -0.96 -0.96\n",
       "3 -0.94 -0.94\n",
       "4 -0.92 -0.92"
      ]
     },
     "execution_count": 6,
     "metadata": {},
     "output_type": "execute_result"
    }
   ],
   "source": [
    "df = pd.read_csv(\"Data/1in_linear.txt\", sep=\"\\t\", header=None)\n",
    "df.columns = [\"x\",\"y\"]\n",
    "x = df[\"x\"]\n",
    "y = df[\"y\"]\n",
    "\n",
    "df.head()"
   ]
  },
  {
   "cell_type": "markdown",
   "metadata": {},
   "source": [
    "## Simplified Neural Network"
   ]
  },
  {
   "cell_type": "markdown",
   "metadata": {},
   "source": [
    "Source: https://www.youtube.com/watch?v=bxe2T-V8XRs\n",
    "\n",
    "\n"
   ]
  },
  {
   "cell_type": "markdown",
   "metadata": {},
   "source": [
    "x = input <br>\n",
    "W1 = weights from input layer to hidden layer <br>\n",
    "z2 = x * W1 <br>\n",
    "a2 = activation of z2 (x * W1) <br>\n",
    "W2  weights from hidden layer to output layer <br>\n",
    "z3 = a2 * W2 <br>\n",
    "yHat = activation of z3 (a2 * W2) <br>"
   ]
  },
  {
   "cell_type": "code",
   "execution_count": 7,
   "metadata": {},
   "outputs": [],
   "source": [
    "class SimplifiedNeuralNetwork(object):\n",
    "    \n",
    "    def __init__(self):\n",
    "        self.fitness = float(\"inf\")\n",
    "                \n",
    "        self.inputLayerSize=1\n",
    "        self.outputLayerSize=1\n",
    "        self.hiddenlayerSize=3\n",
    "                \n",
    "        self.W1 = np.random.randn(self.inputLayerSize, self.hiddenlayerSize)\n",
    "        self.W2 = np.random.randn(self.hiddenlayerSize, self.outputLayerSize)\n",
    "        self.a2_func = sigmoid\n",
    "        self.yHat_func = sigmoid\n",
    "        \n",
    "        #Particle\n",
    "        self.position = self.getParams\n",
    "        self.personal_best_position = self.position\n",
    "        self.personal_best_value = float(\"inf\")\n",
    "        self.velocity = np.zeros(self.getParams.shape)\n",
    "    \n",
    "    def move(self):\n",
    "        self.position = self.position + self.velocity\n",
    "     \n",
    "    def __str__(self):\n",
    "        return f\"Position:{self.position}, Fitness:{self.fitness}\"   \n",
    "    \n",
    "    def forward(self, X):\n",
    "        self.z2 = np.dot(X, self.W1)        # Product of input layer and weights1\n",
    "        self.a2 = self.a2_func(self.z2)     # Activation & z2  \n",
    "        self.z3 = np.dot(self.a2, self.W2)  # Product of a2 & weights2\n",
    "        yHat = self.yHat_func(self.z3)      # Activation of z3\n",
    "        return yHat        \n",
    "    \n",
    "    @property\n",
    "    def getParams(self):\n",
    "        array = self.W1.ravel()\n",
    "#         array = np.append(array,self.a2_func)\n",
    "        array = np.append(array,self.W2.ravel())\n",
    "#         array = np.append(array,self.yHat_func)\n",
    "        return array"
   ]
  },
  {
   "cell_type": "code",
   "execution_count": 8,
   "metadata": {},
   "outputs": [],
   "source": [
    "def rmse(predictions, target):\n",
    "    differences = predictions - target\n",
    "    difference_squared = differences **2\n",
    "    mean_of_differences_squared = difference_squared.mean()\n",
    "    rmse_val = np.sqrt(mean_of_differences_squared)\n",
    "    return rmse_val\n",
    "\n",
    "def feedForward(networks):\n",
    "    for network in networks:\n",
    "        for col_val_x in df[\"x\"]:\n",
    "            yHat = network.forward(col_val_x)\n",
    "            for col_val_y in df[\"y\"]:\n",
    "                error = rmse(col_val_y,yHat)\n",
    "            network.fitness = error\n",
    "    return networks"
   ]
  },
  {
   "cell_type": "markdown",
   "metadata": {},
   "source": [
    "## PSO\n",
    "\n",
    "source: https://jamesmccaffrey.wordpress.com/2015/06/09/particle-swarm-optimization-using-python/\n",
    "\n",
    "\n",
    "source: https://medium.com/analytics-vidhya/implementing-particle-swarm-optimization-pso-algorithm-in-python-9efc2eb179a6"
   ]
  },
  {
   "cell_type": "code",
   "execution_count": 9,
   "metadata": {},
   "outputs": [],
   "source": [
    "class PSO:\n",
    "    \n",
    "    def __init__(self, n_networks):\n",
    "        self.n_networks = n_networks\n",
    "        self.networks = []\n",
    "        self.global_best_value = float(\"inf\")\n",
    "        self.global_best_position = SimplifiedNeuralNetwork().getParams.shape\n",
    "        \n",
    "    def printParticles(self):\n",
    "        for network in self.networks:\n",
    "            print(network)\n",
    "    \n",
    "    def fitness(self, network):\n",
    "        return network.fitness\n",
    "    \n",
    "    def set_personal_best(self):\n",
    "        for network in self.networks:\n",
    "            fitness_candidate = self.fitness(network)\n",
    "            if(network.personal_best_value > fitness_candidate):\n",
    "                network.personal_best_value = fitness_candidate\n",
    "                network.personal_best_position = network.position \n",
    "    \n",
    "    def set_global_best(self):\n",
    "        for network in self.networks:\n",
    "            best_fitness_candidate = self.fitness(network)\n",
    "            if(self.global_best_value > best_fitness_candidate):\n",
    "                self.global_best_value = best_fitness_candidate\n",
    "                self.global_best_position = network.position\n",
    "                \n",
    "    def move_particles(self):\n",
    "        W = 0.5 # Intertia\n",
    "        c1 = 0.8 #Cognitive/personal velocity\n",
    "        c2 = 0.9 # Social velocity\n",
    "        \n",
    "        for network in self.networks:\n",
    "            new_velocity = (W*network.velocity) + (c1*random.random())*\\\n",
    "            (network.personal_best_position - network.position) + \\\n",
    "            (c1*random.random())*(self.global_best_position - network.position)\n",
    "            network.velocity = new_velocity\n",
    "            network.move()\n",
    "    \n",
    "    def optimise(self):\n",
    "        for network in self.networks:\n",
    "                w1 = network.position[:3]\n",
    "                w2 = network.position[-3:]\n",
    "                w1 = np.reshape(w1,(1,3)) # Hard coded dimensions\n",
    "                w2 = np.reshape(w2,(3,1)) # Hard coded dimensions\n",
    "                #Forward\n",
    "                for col_val_x in df[\"x\"]:\n",
    "                    z2 = np.dot(col_val_x, w1)\n",
    "                    a2 = network.a2_func(z2)\n",
    "                    z3 = np.dot(a2, w2)\n",
    "                    yHat = network.yHat_func(z3)\n",
    "                    for col_val_y in df[\"y\"]:\n",
    "                        error = rmse(col_val_y,yHat)\n",
    "                        network.fitness = error"
   ]
  },
  {
   "cell_type": "code",
   "execution_count": 10,
   "metadata": {},
   "outputs": [
    {
     "name": "stdout",
     "output_type": "stream",
     "text": [
      "GlobalBest: [0.33101181 0.88868459 0.88644021 1.59618357 1.98753365 2.20087311] iters: 10 GlobalBestVal: 0.00027340530441011257\n",
      "------------------------\n",
      "[[1.22657285 0.17812071 1.59548193]] Fit 0.002725249964813936\n",
      "[[ 0.17850644  1.88074104 -1.16744397]] Fit 0.005221846144806808\n",
      "[[ 0.084156   -0.13297753  0.98554636]] Fit 0.006483207883145048\n",
      "[[-0.60459373 -0.31882316 -0.95915597]] Fit 0.003940476975114682\n",
      "[[-0.44100182 -0.2525156   0.49337179]] Fit 0.0009819694977256654\n",
      "[[ 2.08438918 -0.68976307  1.95156125]] Fit 0.003618187222350855\n",
      "[[-0.21555801  0.80231694 -1.12816221]] Fit 0.00039357825397967616\n",
      "[[-0.24114165  0.01964736 -0.57755684]] Fit 0.003449306678636632\n",
      "[[-0.25351839 -1.47453117  0.89040387]] Fit 0.00039243107341135897\n",
      "[[ 1.32203715 -0.54515654  1.04779545]] Fit 0.002234393218382813\n"
     ]
    }
   ],
   "source": [
    "num_networks = 10\n",
    "n_iterations = 10\n",
    "\n",
    "\n",
    "pso = PSO(num_networks)\n",
    "\n",
    "particles_vector = [SimplifiedNeuralNetwork() for i in range(num_networks)]\n",
    "particles_vector = feedForward(particles_vector)\n",
    "\n",
    "pso.networks = particles_vector\n",
    "\n",
    "\n",
    "iterations = 0\n",
    "\n",
    "while(iterations < n_iterations) or (pso.global_best_value == 0):\n",
    "    pso.set_personal_best()\n",
    "    pso.set_global_best()    \n",
    "    pso.move_particles()\n",
    "    pso.optimise()\n",
    "    \n",
    "    iterations +=1\n",
    "    \n",
    "print(f\"GlobalBest: {pso.global_best_position} iters: {iterations} GlobalBestVal: {pso.global_best_value}\")\n",
    "print(\"------------------------\")\n",
    "for network in pso.networks:\n",
    "    print(f\"{network.W1} Fit {network.fitness}\")"
   ]
  },
  {
   "cell_type": "code",
   "execution_count": null,
   "metadata": {},
   "outputs": [],
   "source": []
  },
  {
   "cell_type": "code",
   "execution_count": null,
   "metadata": {},
   "outputs": [],
   "source": [
    "\n",
    " \n"
   ]
  },
  {
   "cell_type": "code",
   "execution_count": null,
   "metadata": {},
   "outputs": [],
   "source": []
  },
  {
   "cell_type": "code",
   "execution_count": null,
   "metadata": {},
   "outputs": [],
   "source": []
  },
  {
   "cell_type": "code",
   "execution_count": null,
   "metadata": {},
   "outputs": [],
   "source": []
  },
  {
   "cell_type": "code",
   "execution_count": null,
   "metadata": {},
   "outputs": [],
   "source": []
  },
  {
   "cell_type": "code",
   "execution_count": null,
   "metadata": {},
   "outputs": [],
   "source": []
  },
  {
   "cell_type": "code",
   "execution_count": null,
   "metadata": {},
   "outputs": [],
   "source": []
  },
  {
   "cell_type": "code",
   "execution_count": null,
   "metadata": {},
   "outputs": [],
   "source": []
  },
  {
   "cell_type": "code",
   "execution_count": null,
   "metadata": {},
   "outputs": [],
   "source": []
  }
 ],
 "metadata": {
  "kernelspec": {
   "display_name": "Python 3",
   "language": "python",
   "name": "python3"
  },
  "language_info": {
   "codemirror_mode": {
    "name": "ipython",
    "version": 3
   },
   "file_extension": ".py",
   "mimetype": "text/x-python",
   "name": "python",
   "nbconvert_exporter": "python",
   "pygments_lexer": "ipython3",
   "version": "3.7.1"
  }
 },
 "nbformat": 4,
 "nbformat_minor": 2
}
