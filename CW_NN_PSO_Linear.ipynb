{
 "cells": [
  {
   "cell_type": "code",
   "execution_count": 1,
   "metadata": {},
   "outputs": [],
   "source": [
    "import numpy as np\n",
    "import random\n",
    "import pandas as pd\n",
    "import matplotlib.pyplot as plt\n",
    "%matplotlib inline\n",
    "import time"
   ]
  },
  {
   "cell_type": "markdown",
   "metadata": {},
   "source": [
    "## Activation functions"
   ]
  },
  {
   "cell_type": "code",
   "execution_count": 2,
   "metadata": {},
   "outputs": [],
   "source": [
    "def sigmoid(x):\n",
    "    \"\"\"Returns the sigmoid activation for a given variable x\"\"\"\n",
    "    return 1/(1+np.exp(-x))\n",
    "\n",
    "def tanh(x):\n",
    "    \"\"\"Returns the tanH activation for a given variable x\"\"\"\n",
    "    return np.tanh(x)\n",
    "\n",
    "def cosine(x):\n",
    "    \"\"\"Returns the cosine activation for a given variable x\"\"\"\n",
    "    return np.cos(x)\n",
    "\n",
    "def gaussian(x):\n",
    "    \"\"\"Returns the gaussian activation for a given variable x\"\"\"\n",
    "    return np.exp(-((x**2)/2))"
   ]
  },
  {
   "cell_type": "markdown",
   "metadata": {},
   "source": [
    "## Inputs & Outputs"
   ]
  },
  {
   "cell_type": "code",
   "execution_count": 3,
   "metadata": {},
   "outputs": [],
   "source": [
    "#Linear\n",
    "data = np.loadtxt(\"Data/1in_linear.txt\")\n",
    "x = data[:, :1] # All input variables stored as x\n",
    "y = data[:, 1:] # All test variables stored as y"
   ]
  },
  {
   "cell_type": "markdown",
   "metadata": {},
   "source": [
    "## Simplified Neural Network"
   ]
  },
  {
   "cell_type": "markdown",
   "metadata": {},
   "source": [
    "\n",
    "\n"
   ]
  },
  {
   "cell_type": "code",
   "execution_count": 4,
   "metadata": {},
   "outputs": [],
   "source": [
    "class NeuralNetwork(object):\n",
    "    \n",
    "    def __init__(self):\n",
    "        \"\"\"\n",
    "        The NeuralNetwork object has a fitness attribute that is initialised at infinity\n",
    "        and will will be updated\n",
    "        \n",
    "        The architecture of the network can be adjusted by changing the inputLayerSize,\n",
    "        outputLayerSize, hiddenlayerSize. \n",
    "        \n",
    "        The Network hyperparameters:\n",
    "        -----------------------------\n",
    "        W1: weights from the input layer to the hidden layer. Randomly initialised\n",
    "        W2: weights from the hidden layer to the output layer. Randomly initialised\n",
    "        a2_func: activation function of the hidden layer\n",
    "        yHat_func: activation of the output layer\n",
    "        b1: input to hidden bias\n",
    "        b2: hidden to output bias\n",
    "        \n",
    "        The Particle Parameters:\n",
    "        ------------------------\n",
    "        position: uses the getParams function which yields an array of parameter values\n",
    "        personal_best_position: is initialised as current position\n",
    "        personal_best_value: is initialised at infinity\n",
    "        self.velocity: is initialised at 0 in the shape of the position array\n",
    "        \"\"\"\n",
    "        self.fitness = float(\"inf\")\n",
    "        \n",
    "        #Network architecture \n",
    "        self.inputLayerSize=1\n",
    "        self.outputLayerSize=1\n",
    "        self.hiddenlayerSize=3\n",
    "        \n",
    "        #Network hyperparameters\n",
    "        self.W1 = np.random.randn(self.inputLayerSize, self.hiddenlayerSize)\n",
    "        self.W2 = np.random.randn(self.hiddenlayerSize, self.outputLayerSize)\n",
    "        self.a2_func = sigmoid\n",
    "        self.yHat_func = sigmoid\n",
    "        self.b1 = random.random()\n",
    "        self.b2 = random.random()\n",
    "        \n",
    "        #Particle parameters\n",
    "        self.position = self.getParams\n",
    "        self.personal_best_position = self.position\n",
    "        self.personal_best_value = float(\"inf\")\n",
    "        self.velocity = np.zeros(self.getParams.shape)\n",
    "    \n",
    "    def move(self):\n",
    "        \"\"\"The move function will change the particle position based on particle velocity\"\"\"\n",
    "        self.position = self.position + self.velocity\n",
    "     \n",
    "    def __str__(self):\n",
    "        \"\"\"Returns a string representation of particle position and network fitness value\"\"\"\n",
    "        return f\"Position:{self.position}, Fitness:{self.fitness}\"   \n",
    "    \n",
    "    def forward(self, X):\n",
    "        \"\"\"\n",
    "        Forward propagation of the neural network \n",
    "        z2: is the dot product of input x and W1 plus bias(b1)\n",
    "        a2: is the activation of the z2\n",
    "        z3: is the dot product of a2 and W2 plus bias(b2)\n",
    "        yHat: is the activation of the z3\n",
    "        \"\"\"\n",
    "        self.z2 = np.dot(X, self.W1) + self.b1       \n",
    "        self.a2 = self.a2_func(self.z2)                 \n",
    "        self.z3 = np.dot(self.a2, self.W2) + self.b2 \n",
    "        yHat = self.yHat_func(self.z3)      \n",
    "        return yHat        \n",
    "    \n",
    "    @property\n",
    "    def getParams(self):\n",
    "        \"\"\"Returns the parameters of the neural network in an array that can be used in PSO\"\"\"\n",
    "        array = self.W1.ravel()\n",
    "        array = np.append(array,self.W2.ravel())\n",
    "        array = np.append(array,self.b1)\n",
    "        array = np.append(array,self.b2)\n",
    "        return array"
   ]
  },
  {
   "cell_type": "code",
   "execution_count": 5,
   "metadata": {},
   "outputs": [],
   "source": [
    "def mse(predicted, target):\n",
    "    \"\"\"\n",
    "    Mean Squared Error is calculated using the difference of the predicted value(yHat)\n",
    "    and the target value(y)\n",
    "    \"\"\"\n",
    "    mse = np.square(np.subtract(predicted,target)).mean()\n",
    "    return mse   \n",
    "\n",
    "def feedForward(networks):\n",
    "    \"\"\"\n",
    "    The feedForward method loops through a list of networks and input values(x) and\n",
    "    uses the Neural Network's forward propagation function to calculate a yHat value.\n",
    "    An error is calculated using the Mean Squared Error function using the target value(y)\n",
    "    and yHat.\n",
    "    The error value becomes the network's fitness. \n",
    "    \"\"\"\n",
    "    for network in networks:\n",
    "        for col_val_x in x:\n",
    "            yHat = network.forward(col_val_x)\n",
    "            for col_val_y in y:\n",
    "                error = mse(col_val_y,yHat)\n",
    "            network.fitness = error\n",
    "    return networks"
   ]
  },
  {
   "cell_type": "markdown",
   "metadata": {},
   "source": [
    "## PSO"
   ]
  },
  {
   "cell_type": "code",
   "execution_count": 6,
   "metadata": {},
   "outputs": [],
   "source": [
    "class PSO:\n",
    "    \n",
    "    def __init__(self, n_networks):\n",
    "        \"\"\"\n",
    "        The PSO object contains an input n_networks which is the number of neural networks\n",
    "        that are to be initialised.\n",
    "        networks: is a list to store the initialised networks\n",
    "        global_best_value: is initialised as infinity\n",
    "        global_best_position: gets its shape from the Neural Network's getParams function\n",
    "        yHat: is initialised at floating point 0. It is needed to plot a graph\n",
    "        yHat_l: is a list to store the yHat values that is needed to plot a graph\n",
    "        \"\"\"\n",
    "        self.n_networks = n_networks\n",
    "        self.networks = []\n",
    "        self.global_best_value = float(\"inf\")\n",
    "        self.global_best_position = NeuralNetwork().getParams.shape\n",
    "        self.yHat=0.\n",
    "        self.yHat_l=[]\n",
    "    \n",
    "    def fitness(self, network):\n",
    "        \"\"\"Returns the network's fitness value\"\"\"\n",
    "        return network.fitness\n",
    "    \n",
    "    def set_personal_best(self):\n",
    "        \"\"\"\n",
    "        The set_personal_best method loops through a list of networks, assisigns a \n",
    "        fitness_candidate which is the network's fitness. If the networks' \n",
    "        personal_best_value is greater that fitness_candidate; it then assigns the \n",
    "        personal_best_value as the fitness_candidate. It then updates the network's\n",
    "        personal_best_position as the network's position.\n",
    "        \"\"\"\n",
    "        for network in self.networks:\n",
    "            fitness_candidate = self.fitness(network)\n",
    "            if(network.personal_best_value > fitness_candidate):\n",
    "                network.personal_best_value = fitness_candidate\n",
    "                network.personal_best_position = network.position \n",
    "#                     \n",
    "    def set_global_best(self):\n",
    "        \"\"\"\n",
    "        The set_global_best method loops through a list of networks and assigns the \n",
    "        best_fitness_candidate to the network's fitness. If the global_best_value \n",
    "        is greater than the best_fitness_candidate the global_best_value is assigned as \n",
    "        best_fitness_candidate and the global_best_position becomes the network's position\n",
    "        \"\"\"\n",
    "        for network in self.networks:\n",
    "            best_fitness_candidate = self.fitness(network)\n",
    "            if(self.global_best_value > best_fitness_candidate):\n",
    "                self.global_best_value = best_fitness_candidate\n",
    "                self.global_best_position = network.position\n",
    "                \n",
    "    def move_particles(self):\n",
    "        \"\"\"\n",
    "        The move_particles method contains:\n",
    "        \n",
    "        the Intertia weight(W)\n",
    "        Cognitive(c1)\n",
    "        Social(c2) weights of the PSO algorithm which can be adjusted.\n",
    "        \n",
    "        This method loops through a list of neural networks and stores the product of \n",
    "        of interia weight multiplied by network's velocity plus a random number multiplied \n",
    "        by the cognitive weight multiplied by the difference of the personal_best_position\n",
    "        of the network and network's position plus the social weight into a random number\n",
    "        multiplied by the difference of global_best_position of the networks and network's\n",
    "        position in a variable called new_velocity. It then assigns the network's velocity\n",
    "        to this variable and calls the move function from NeuralNetwork class. \n",
    "        \"\"\"\n",
    "        W = 0.5 # Intertia\n",
    "        c1 = 0.8 #Cognitive/personal velocity\n",
    "        c2 = 0.9 # Social velocity\n",
    "        \n",
    "        for network in self.networks:\n",
    "            new_velocity = (W*network.velocity) + (c1*random.random())*\\\n",
    "            (network.personal_best_position - network.position) + \\\n",
    "            (c2*random.random())*(self.global_best_position - network.position)\n",
    "            network.velocity = new_velocity\n",
    "            network.move()\n",
    "    \n",
    "    def optimise(self):\n",
    "        \"\"\"\n",
    "        The optimise method loops through a list of neural networks and:\n",
    "        w1: takes the first three numbers from network's position array which is then \n",
    "        reshaped to the dimensions of the NeuralNetwork object's W1 parameter\n",
    "        w2: takes the next three numbers from network's position array which is then \n",
    "        reshaped to the dimensions of the NeuralNetwork object's W2 parameter\n",
    "        b1: takes the 7th item from the array\n",
    "        b2: takes the 8th item from the array\n",
    "        \n",
    "        and uses these variables to forward propagate the neural network with these values.\n",
    "        z2: is the dot product of input(x) and w1 plus bias(b1)\n",
    "        a2: is the activation of the z2 using the activation function in NeuralNetwork class\n",
    "        z3: is the dot product of a2 and W2 plus bias(b2)\n",
    "        yHat: is the activation of the z3 using the activation function in NeuralNetwork class\n",
    "        yHat_l: the yHat values are stored in a list for plotting graphs\n",
    "        error: is calculated by using the Mean Square Error(mse) method using the target value(y)\n",
    "        and predicted value(yHat). The network's fitness is updated using the error.\n",
    "        \"\"\"\n",
    "        for network in self.networks:\n",
    "            w1 = network.position[0:3]\n",
    "            w2 = network.position[3:6]\n",
    "            w1 = np.reshape(w1,(NeuralNetwork().W1.shape)) \n",
    "            w2 = np.reshape(w2,(NeuralNetwork().W2.shape)) \n",
    "            b1 = network.position[6:7]\n",
    "            b2 = network.position[7]\n",
    "                #Forward\n",
    "            for col_val_x in x:\n",
    "                z2 = np.dot(col_val_x, w1) +b1\n",
    "                a2 = network.a2_func(z2)\n",
    "                z3 = np.dot(a2, w2) +b2\n",
    "                self.yHat = network.yHat_func(z3)\n",
    "                self.yHat_l.append(self.yHat)\n",
    "                for col_val_y in y:\n",
    "                    error = mse(col_val_y,self.yHat)\n",
    "                    network.fitness = error        "
   ]
  },
  {
   "cell_type": "code",
   "execution_count": 7,
   "metadata": {
    "scrolled": true
   },
   "outputs": [
    {
     "name": "stdout",
     "output_type": "stream",
     "text": [
      "Iteration:1 Error:0.015147642450047155 yHat:[0.7077475]\n",
      "Iteration:2 Error:0.015147642450047155 yHat:[0.74787001]\n",
      "Iteration:3 Error:0.011662095587202053 yHat:[0.83777789]\n",
      "Iteration:4 Error:0.006853724121371097 yHat:[0.90515994]\n",
      "Iteration:5 Error:0.00432509493280116 yHat:[0.92941497]\n",
      "Iteration:6 Error:0.002558845159204057 yHat:[0.93787705]\n",
      "Iteration:7 Error:0.001774342833635748 yHat:[0.94148951]\n",
      "Iteration:8 Error:0.001075706767727672 yHat:[0.94540825]\n",
      "Iteration:9 Error:0.0006322921881298619 yHat:[0.94833576]\n",
      "GlobalBest: [-3.01821069 -2.49627494  2.88867701  3.72491537 -0.06331467  0.45978504\n",
      "  1.56963438  1.95519551] iters: 10 GlobalBestVal: 0.0004709203651497017\n",
      "------------------------ total time taken: 9.078125 seconds\n"
     ]
    }
   ],
   "source": [
    "num_networks = 10 # Number of networks are to be initialised \n",
    "n_iterations = 10 # Number of iterations/epochs that the PSO should run  \n",
    "\n",
    "pso = PSO(num_networks) # Instantiation of the PSO\n",
    "\n",
    "# Generates num_networks times NeuralNetwork objects and assigns it to a list \n",
    "particles_vector = [NeuralNetwork() for i in range(num_networks)]  \n",
    "\n",
    "# Forward propagation of all the neural networks\n",
    "particles_vector = feedForward(particles_vector)\n",
    "\n",
    "# Assigns the list of neural networks to a list object in PSO class\n",
    "pso.networks = particles_vector\n",
    "\n",
    "# The start time to calculate how long the algorithm takes. \n",
    "start = time.process_time()\n",
    "\n",
    "# Sets the number of starting iterations/epochs\n",
    "iterations = 0\n",
    "\n",
    "# Initialising a list that stores the errors\n",
    "error_list = []\n",
    "\n",
    "# While-loop that continues until total number of iterations or until the global best value = 0\n",
    "while(iterations < n_iterations) or (pso.global_best_value == 0):\n",
    "    \n",
    "    # Starting from the 1st iteration: prints the number of iterations, the global_best_value \n",
    "    # and the predicted(yHat) value. Also appends the global_best_value to the error_list\n",
    "    if iterations!=0:\n",
    "        print(f\"Iteration:{str(iterations)} Error:{pso.global_best_value} yHat:{pso.yHat}\")\n",
    "        error_list.append(pso.global_best_value)\n",
    "    \n",
    "    # PSO algorithm is executed by these methods\n",
    "    pso.set_personal_best()\n",
    "    pso.set_global_best()    \n",
    "    pso.move_particles()\n",
    "    pso.optimise()\n",
    "    \n",
    "    # Updates iterations\n",
    "    iterations +=1\n",
    "\n",
    "# Prints out the final global_best_position, the total number of iterations, \n",
    "# the global_best_value and the time taken to execute the algorithm\n",
    "print(f\"GlobalBest: {pso.global_best_position} iters: {iterations} GlobalBestVal: {pso.global_best_value}\")\n",
    "print(f\"------------------------ total time taken: {time.process_time() - start} seconds\")       "
   ]
  },
  {
   "cell_type": "code",
   "execution_count": 8,
   "metadata": {},
   "outputs": [
    {
     "data": {
      "image/png": "[encoded data removed]",
      "text/plain": [
       "<Figure size 432x288 with 1 Axes>"
      ]
     },
     "metadata": {
      "needs_background": "light"
     },
     "output_type": "display_data"
    }
   ],
   "source": [
    "plt.figure()\n",
    "plt.plot(error_list)\n",
    "plt.title(\"Error rate\")\n",
    "plt.xlabel(\"Iterations\")\n",
    "plt.ylabel(\"Errors\")\n",
    "plt.show()"
   ]
  },
  {
   "cell_type": "markdown",
   "metadata": {},
   "source": [
    "10,000 instances of yHats = take every 100"
   ]
  },
  {
   "cell_type": "code",
   "execution_count": 9,
   "metadata": {},
   "outputs": [],
   "source": [
    "pso.yHat_l\n",
    "l = pso.yHat_l[0::100]"
   ]
  },
  {
   "cell_type": "code",
   "execution_count": 13,
   "metadata": {},
   "outputs": [
    {
     "data": {
      "image/png": "[encoded data removed]",
      "text/plain": [
       "<Figure size 432x288 with 1 Axes>"
      ]
     },
     "metadata": {
      "needs_background": "light"
     },
     "output_type": "display_data"
    }
   ],
   "source": [
    "plt.figure()\n",
    "plt.plot(y,l)\n",
    "plt.title(\"y,yHat\")\n",
    "# plt.xlabel(\"Iterations\")\n",
    "# plt.ylabel(\"Errors\")\n",
    "plt.show()"
   ]
  },
  {
   "cell_type": "code",
   "execution_count": null,
   "metadata": {},
   "outputs": [],
   "source": []
  },
  {
   "cell_type": "code",
   "execution_count": null,
   "metadata": {},
   "outputs": [],
   "source": []
  },
  {
   "cell_type": "code",
   "execution_count": null,
   "metadata": {},
   "outputs": [],
   "source": []
  },
  {
   "cell_type": "code",
   "execution_count": null,
   "metadata": {},
   "outputs": [],
   "source": []
  },
  {
   "cell_type": "code",
   "execution_count": null,
   "metadata": {},
   "outputs": [],
   "source": []
  },
  {
   "cell_type": "code",
   "execution_count": null,
   "metadata": {},
   "outputs": [],
   "source": []
  },
  {
   "cell_type": "code",
   "execution_count": null,
   "metadata": {},
   "outputs": [],
   "source": []
  }
 ],
 "metadata": {
  "kernelspec": {
   "display_name": "Python 3",
   "language": "python",
   "name": "python3"
  },
  "language_info": {
   "codemirror_mode": {
    "name": "ipython",
    "version": 3
   },
   "file_extension": ".py",
   "mimetype": "text/x-python",
   "name": "python",
   "nbconvert_exporter": "python",
   "pygments_lexer": "ipython3",
   "version": "3.7.1"
  }
 },
 "nbformat": 4,
 "nbformat_minor": 2
}
