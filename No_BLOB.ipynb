{
 "cells": [
  {
   "cell_type": "code",
   "execution_count": 1,
   "metadata": {},
   "outputs": [],
   "source": [
    "import numpy as np\n",
    "import random\n",
    "import pandas as pd\n",
    "import matplotlib.pyplot as plt\n",
    "%matplotlib inline\n",
    "import time"
   ]
  },
  {
   "cell_type": "code",
   "execution_count": 3,
   "metadata": {},
   "outputs": [],
   "source": [
    "def sigmoid(x):\n",
    "    \"\"\"Returns the sigmoid activation for a given variable x\"\"\"\n",
    "    return 1/(1+np.exp(-x))\n",
    "\n",
    "def tanh(x):\n",
    "    \"\"\"Returns the tanH activation for a given variable x\"\"\"\n",
    "    return np.tanh(x)\n",
    "\n",
    "def cosine(x):\n",
    "    \"\"\"Returns the cosine activation for a given variable x\"\"\"\n",
    "    return np.cos(x)\n",
    "\n",
    "def gaussian(x):\n",
    "    \"\"\"Returns the gaussian activation for a given variable x\"\"\"\n",
    "    return np.exp(-((x**2)/2))"
   ]
  },
  {
   "cell_type": "code",
   "execution_count": 2,
   "metadata": {},
   "outputs": [],
   "source": [
    "#Linear\n",
    "data = np.loadtxt(\"Data/1in_linear.txt\")\n",
    "x = data[:, :1] # All input variables stored as x\n",
    "y = data[:, 1:] # All test variables stored as y"
   ]
  },
  {
   "cell_type": "code",
   "execution_count": 77,
   "metadata": {},
   "outputs": [],
   "source": [
    "class NN:\n",
    "    \n",
    "    def __init__(self,params):\n",
    "        self.parameters = params\n",
    "        self.n_inputs = 1\n",
    "        self.n_hidden = 3\n",
    "        self.n_outputs = 1\n",
    "        \n",
    "        self.fitness = float(\"inf\")\n",
    "\n",
    "        # Roll-back the weights and biases\n",
    "        self.W1 = params[0:3].reshape((self.n_inputs,self.n_hidden))\n",
    "        self.b1 = params[3:4]\n",
    "        self.W2 = params[4:7].reshape((self.n_hidden,self.n_outputs))\n",
    "        self.b2 = params[7:8]\n",
    "        \n",
    "        #Particle parameters\n",
    "        self.position = self.parameters\n",
    "        self.personal_best_position = self.position\n",
    "        self.personal_best_value = float(\"inf\")\n",
    "        self.velocity = np.zeros(self.parameters.shape)\n",
    "        self.informants = []\n",
    "        \n",
    "    def move(self):\n",
    "        self.position = self.position + self.velocity\n",
    "    \n",
    "    def forward(self,X):\n",
    "        self.z1 = np.dot(X,self.W1) + self.b1\n",
    "        self.a1 = sigmoid(self.z1)     \n",
    "        self.z2 = np.dot(self.a1,self.W2) + self.b2\n",
    "        yHat = sigmoid(self.z2)\n",
    "        return yHat"
   ]
  },
  {
   "cell_type": "code",
   "execution_count": 86,
   "metadata": {},
   "outputs": [
    {
     "data": {
      "text/plain": [
       "array([[0.70718977],\n",
       "       [0.70725035],\n",
       "       [0.70731101],\n",
       "       [0.70737175],\n",
       "       [0.70743257]])"
      ]
     },
     "execution_count": 86,
     "metadata": {},
     "output_type": "execute_result"
    }
   ],
   "source": [
    "params = np.random.uniform(low=-1, high=1,size=8) # 8 Random numbers\n",
    "nn = NN(params) \n",
    "yHats = nn.forward(x)\n",
    "yHats[:5] # Top 5 yHat values"
   ]
  },
  {
   "cell_type": "code",
   "execution_count": 130,
   "metadata": {},
   "outputs": [],
   "source": [
    "\n"
   ]
  },
  {
   "cell_type": "code",
   "execution_count": 131,
   "metadata": {},
   "outputs": [
    {
     "data": {
      "text/plain": [
       "10000"
      ]
     },
     "execution_count": 131,
     "metadata": {},
     "output_type": "execute_result"
    }
   ],
   "source": []
  },
  {
   "cell_type": "code",
   "execution_count": 122,
   "metadata": {},
   "outputs": [],
   "source": [
    "def mse(predicted, target):\n",
    "    mse = np.square(np.subtract(predicted,target)).mean()\n",
    "    return mse   \n",
    "\n",
    "def feedForward(networks):\n",
    "    for network in networks:\n",
    "        for col_val_x in x:\n",
    "            yHat = network.forward(col_val_x)\n",
    "            for col_val_y in y:\n",
    "                error = mse(col_val_y,yHat)\n",
    "            network.fitness = error\n",
    "    return networks"
   ]
  },
  {
   "cell_type": "code",
   "execution_count": null,
   "metadata": {},
   "outputs": [],
   "source": []
  },
  {
   "cell_type": "code",
   "execution_count": 50,
   "metadata": {},
   "outputs": [
    {
     "data": {
      "text/plain": [
       "3.7927149380241048e-06"
      ]
     },
     "execution_count": 50,
     "metadata": {},
     "output_type": "execute_result"
    }
   ],
   "source": []
  },
  {
   "cell_type": "code",
   "execution_count": null,
   "metadata": {},
   "outputs": [],
   "source": []
  }
 ],
 "metadata": {
  "kernelspec": {
   "display_name": "Python 3",
   "language": "python",
   "name": "python3"
  },
  "language_info": {
   "codemirror_mode": {
    "name": "ipython",
    "version": 3
   },
   "file_extension": ".py",
   "mimetype": "text/x-python",
   "name": "python",
   "nbconvert_exporter": "python",
   "pygments_lexer": "ipython3",
   "version": "3.7.1"
  }
 },
 "nbformat": 4,
 "nbformat_minor": 2
}
